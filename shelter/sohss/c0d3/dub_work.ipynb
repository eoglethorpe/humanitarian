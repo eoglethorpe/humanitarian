{
 "cells": [
  {
   "cell_type": "code",
   "execution_count": 37,
   "metadata": {
    "collapsed": true
   },
   "outputs": [],
   "source": [
    "\"\"\"do necessary modifications to 4W file\"\"\"\n",
    "\n",
    "from collections import OrderedDict\n",
    "\n",
    "import numpy as np\n",
    "import pandas as pd\n",
    "import country_converter as coco\n",
    "import dateparser\n",
    "\n",
    "pd.set_option('display.max_columns', 500)"
   ]
  },
  {
   "cell_type": "code",
   "execution_count": 174,
   "metadata": {
    "collapsed": true
   },
   "outputs": [],
   "source": [
    "xmet = pd.read_excel('../d0cz/w_overview.xlsx', sheet_name='merged')"
   ]
  },
  {
   "cell_type": "code",
   "execution_count": 175,
   "metadata": {
    "collapsed": true
   },
   "outputs": [],
   "source": [
    "xed = pd.read_excel('../d0cz/4w_content_final.xlsx', sheet_name='Sheet1')"
   ]
  },
  {
   "cell_type": "code",
   "execution_count": 176,
   "metadata": {
    "collapsed": true
   },
   "outputs": [],
   "source": [
    "#clean up xed\n",
    "xed = xed.rename(\n",
    "    {'File' : 'file_nm',\n",
    "    'Date Reported' : 'date_rep',\n",
    "    'Donor' : 'donor',\n",
    "    'Organisation' : 'org',\n",
    "    'Implementing Partner' : 'imp_partner',\n",
    "    'Activity category' : 'act_cat',\n",
    "    'Area of activities' : 'area_act',\n",
    "    'Activity detail' : 'act_detail',\n",
    "    'Admin level 1' : 'admin_lvl_1',\n",
    "    'Admin level 1 code' : 'admin_lvl_1_cd',\n",
    "    'Admin level 2' : 'admin_lvl_2',\n",
    "    'Admin level 2 code' : 'admin_lvl_2_cd',\n",
    "    'Status' : 'status',\n",
    "    '# of HH reached' : 'num_hh_reached',\n",
    "    'Number of beneficiaries reached' : 'num_ben_reached',\n",
    "    'Start date' : 'start_dt',\n",
    "    'End date' : 'end_dt'}, axis = 1)\n",
    "\n",
    "xed.file_nm = xed.apply(lambda x : x['file_nm'].split(':')[1], axis = 1)"
   ]
  },
  {
   "cell_type": "code",
   "execution_count": 177,
   "metadata": {},
   "outputs": [
    {
     "name": "stderr",
     "output_type": "stream",
     "text": [
      "/Users/ewanog/Documents/work/code/venv/p3/lib/python3.6/site-packages/ipykernel_launcher.py:35: SettingWithCopyWarning: \n",
      "A value is trying to be set on a copy of a slice from a DataFrame\n",
      "\n",
      "See the caveats in the documentation: http://pandas.pydata.org/pandas-docs/stable/indexing.html#indexing-view-versus-copy\n",
      "WARNING:root:Pacific Region not found in regex\n",
      "WARNING:root:Pacific Region not found in regex\n",
      "WARNING:root:Pacific Region not found in regex\n",
      "WARNING:root:Pacific Region not found in regex\n"
     ]
    }
   ],
   "source": [
    "#do things to xmet\n",
    "\n",
    "#fix cols\n",
    "xmet = xmet.rename(\n",
    "    {\n",
    "    'Filename': 'file_nm',\n",
    "    'Crisis Name (if available)' : 'crisis_nm',\n",
    "    'Country' : 'country',\n",
    "    'Year' : 'year',\n",
    "    'Extracted URL' : 'url',\n",
    "    'Found N/Y' : 'found_yn',\n",
    "    'Multi Sector?' : 'mult',\n",
    "    'Multi Sector Shelter Name' : 'mult_nm',\n",
    "    'Data Sheet' : 'sht',\n",
    "    'notes' : 'notes',\n",
    "    '3Ws' : '3w',\n",
    "    '4Ws' : '4w',\n",
    "    '5Ws' : '5w',\n",
    "    '4W Overview' : 'over'\n",
    "    }, axis = 1\n",
    ")\n",
    "\n",
    "#fix names\n",
    "\n",
    "misp = \\\n",
    "    {'Aghanistan' : 'Afghanistan',\n",
    "    'Bnagladesh' : 'Bangladesh',\n",
    "    'Ethopia' : 'Ethiopia',\n",
    "    'Phillipines' : 'Philippines',\n",
    "    'El Salvado' : 'El Salvador',\n",
    "    'Equador' : 'Ecuador',\n",
    "    'DRC' : 'Democratic Repulic of Congo',\n",
    "    'CAR' : 'Central African Republic'}\n",
    "\n",
    "for k,v in misp.items():\n",
    "    xmet.country[xmet.country == k] = v\n",
    "\n",
    "xmet['iso'] = xmet['country'].apply(lambda x : coco.convert(names = x, to = 'ISO3'))\n",
    "\n",
    "xmet['uid'] = xmet.apply(lambda x : x['iso'] + str(x['year']), axis = 1)\n",
    "\n",
    "xmet['country'] = xmet['country'].str.title()"
   ]
  },
  {
   "cell_type": "code",
   "execution_count": 178,
   "metadata": {},
   "outputs": [],
   "source": [
    "#merge and do some cleaning\n",
    "\n",
    "def strip(s):\n",
    "    if isinstance(s, str):\n",
    "        return s.replace('\\n', '').replace('\\t', '').replace('.xlsx', '').replace('.xls', '') \\\n",
    "                .replace('.xlsm', '').replace(' ', '')\n",
    "\n",
    "# xmet['mrg_v_met'] = xmet.apply(lambda x : strip(x.file_nm), axis = 1)\n",
    "xed['mrg_v_ed'] = xed.apply(lambda x : strip(x.file_nm), axis = 1)\n",
    "\n",
    "mrgd = xed.merge(xmet, on = 'file_nm', how = 'left')\n",
    "\n",
    "mrgd[mrgd.iso.isna()].mrg_v_ed.unique()\n",
    "\n",
    "repl = {\n",
    "        'shelter_cccmdms_4w_january_2018' : 'NGA2018',\n",
    "        '_2016_IRAQ_S_NFI_interventions_Jan._Jun.16_Cluster_4W_matrix_' : 'IRQ2016',\n",
    "        'CRS-ActivityInfo2016-IRAQ_S_NFI_Cluster_4W_Template_Final.01' : 'IRQ2016',\n",
    "        '_2016_iraq_s-nfi_interventions_jan._-_dec.16_cluster_4w_matrix_0' : 'IRQ2016',\n",
    "        'CopyofAfg_WhoHasWhatWhere_Feb_2016-SUGGESTEDDATACOLLECTIONTEMPLATE' : 'AFG2016',\n",
    "        '5W_Tableau_2017_v17' : 'UKR2017',\n",
    "        'Ecuador 2016.xlsx' : 'ECU2016'\n",
    "    }\n",
    "\n",
    "for k,v in repl.items():\n",
    "    mrgd.loc[mrgd.mrg_v_ed == k, 'uid'] = v\n",
    "    \n",
    "mrgd.num_hh_reached = mrgd.num_hh_reached.apply(lambda x : 0 if not (isinstance(x, float) \\\n",
    "                                                                     or isinstance(x, int)) else x)\n",
    "mrgd.num_ben_reached = mrgd.num_ben_reached.apply(lambda x : 0 if not (isinstance(x, float)\\\n",
    "                                                                       or isinstance(x, int)) else x)\n",
    "mrgd.org = mrgd.org.str.title()\n",
    "mrgd.imp_partner = mrgd.imp_partner.str.title()\n",
    "\n",
    "mrgd.loc[mrgd.org == 'United Nations High Comissioner For Refugee', 'org'] = 'Unhcr'\n",
    "mrgd.loc[mrgd.org == 'United Nations High Comissioner For Refugees', 'org'] = 'Unhcr'\n",
    "mrgd.loc[mrgd.org == 'International Organization For Migration', 'org'] = 'Iom'\n",
    "\n"
   ]
  },
  {
   "cell_type": "code",
   "execution_count": 43,
   "metadata": {},
   "outputs": [
    {
     "name": "stdout",
     "output_type": "stream",
     "text": [
      "Ecuador 2016.xlsx\n"
     ]
    }
   ],
   "source": [
    "# get rows without UID\n",
    "\n",
    "type(list(mrgd.uid.unique())[3])\n",
    "\n",
    "nolab = mrgd[~mrgd.uid.isin(list(mrgd.uid.unique()[1:]))]\n",
    "\n",
    "for v in nolab.file_nm.unique():\n",
    "    print(v)"
   ]
  },
  {
   "cell_type": "markdown",
   "metadata": {},
   "source": [
    "# descriptions#"
   ]
  },
  {
   "cell_type": "code",
   "execution_count": 44,
   "metadata": {},
   "outputs": [
    {
     "data": {
      "text/plain": [
       "UKR2017    69447\n",
       "BGD2018    17654\n",
       "SSD2015    13421\n",
       "NPL2016     8915\n",
       "YEM2016     2920\n",
       "HTI2016     2128\n",
       "IRQ2016     1973\n",
       "YEM2015     1499\n",
       "AFG2017     1331\n",
       "AFG2016     1249\n",
       "SYR2016     1059\n",
       "ECU2016      890\n",
       "AFG2013      795\n",
       "PAK2015      760\n",
       "BGD2017      428\n",
       "NGA2017      323\n",
       "IRQ2015      313\n",
       "SYR2015      273\n",
       "MLI2017      174\n",
       "NGA2018       66\n",
       "PSE2014       49\n",
       "ETH2015        6\n",
       "Name: uid, dtype: int64"
      ]
     },
     "execution_count": 44,
     "metadata": {},
     "output_type": "execute_result"
    }
   ],
   "source": [
    "#total counts by crisis\n",
    "r = mrgd.uid.value_counts()\n",
    "r.to_clipboard()\n",
    "r"
   ]
  },
  {
   "cell_type": "code",
   "execution_count": 45,
   "metadata": {
    "collapsed": true
   },
   "outputs": [],
   "source": [
    "# d = self.flows[['fts.uid', 'plan', 'amountUSD']].groupby(['fts.uid', 'plan'], as_index=False).aggregate(\n",
    "#     {'amountUSD': 'sum'})\n",
    "\n",
    "# piv = pd.pivot_table(d, index='fts.uid', values='amountUSD', aggfunc=np.sum, columns=[d['plan']] \\\n",
    "#                      , fill_value=0).reset_index()\\\n"
   ]
  },
  {
   "cell_type": "code",
   "execution_count": 46,
   "metadata": {
    "collapsed": true
   },
   "outputs": [],
   "source": [
    "mrgd.head(10).to_clipboard()"
   ]
  },
  {
   "cell_type": "code",
   "execution_count": 47,
   "metadata": {},
   "outputs": [
    {
     "data": {
      "text/html": [
       "<div>\n",
       "<style scoped>\n",
       "    .dataframe tbody tr th:only-of-type {\n",
       "        vertical-align: middle;\n",
       "    }\n",
       "\n",
       "    .dataframe tbody tr th {\n",
       "        vertical-align: top;\n",
       "    }\n",
       "\n",
       "    .dataframe thead th {\n",
       "        text-align: right;\n",
       "    }\n",
       "</style>\n",
       "<table border=\"1\" class=\"dataframe\">\n",
       "  <thead>\n",
       "    <tr style=\"text-align: right;\">\n",
       "      <th></th>\n",
       "      <th>year_</th>\n",
       "      <th>country_</th>\n",
       "      <th>file_nm_nunique</th>\n",
       "      <th>country_count</th>\n",
       "      <th>num_hh_reached_sum</th>\n",
       "      <th>num_hh_reached_median</th>\n",
       "      <th>num_ben_reached_sum</th>\n",
       "      <th>num_ben_reached_median</th>\n",
       "    </tr>\n",
       "  </thead>\n",
       "  <tbody>\n",
       "    <tr>\n",
       "      <th>15</th>\n",
       "      <td>2017.0</td>\n",
       "      <td>Afghanistan</td>\n",
       "      <td>16</td>\n",
       "      <td>1331</td>\n",
       "      <td>1.116983e+05</td>\n",
       "      <td>43.0</td>\n",
       "      <td>6.667285e+06</td>\n",
       "      <td>222.0</td>\n",
       "    </tr>\n",
       "    <tr>\n",
       "      <th>8</th>\n",
       "      <td>2016.0</td>\n",
       "      <td>Afghanistan</td>\n",
       "      <td>8</td>\n",
       "      <td>559</td>\n",
       "      <td>1.332500e+04</td>\n",
       "      <td>22.0</td>\n",
       "      <td>1.974220e+05</td>\n",
       "      <td>80.0</td>\n",
       "    </tr>\n",
       "    <tr>\n",
       "      <th>11</th>\n",
       "      <td>2016.0</td>\n",
       "      <td>Iraq</td>\n",
       "      <td>7</td>\n",
       "      <td>1306</td>\n",
       "      <td>3.133200e+05</td>\n",
       "      <td>75.5</td>\n",
       "      <td>6.796000e+03</td>\n",
       "      <td>6796.0</td>\n",
       "    </tr>\n",
       "    <tr>\n",
       "      <th>19</th>\n",
       "      <td>2017.0</td>\n",
       "      <td>Ukraine</td>\n",
       "      <td>5</td>\n",
       "      <td>59341</td>\n",
       "      <td>1.646432e+06</td>\n",
       "      <td>8.0</td>\n",
       "      <td>5.563765e+06</td>\n",
       "      <td>13.0</td>\n",
       "    </tr>\n",
       "    <tr>\n",
       "      <th>16</th>\n",
       "      <td>2017.0</td>\n",
       "      <td>Bangladesh</td>\n",
       "      <td>3</td>\n",
       "      <td>428</td>\n",
       "      <td>5.124100e+04</td>\n",
       "      <td>200.0</td>\n",
       "      <td>2.614700e+05</td>\n",
       "      <td>1000.0</td>\n",
       "    </tr>\n",
       "    <tr>\n",
       "      <th>0</th>\n",
       "      <td>2013.0</td>\n",
       "      <td>Afghanistan</td>\n",
       "      <td>1</td>\n",
       "      <td>795</td>\n",
       "      <td>3.075200e+04</td>\n",
       "      <td>13.0</td>\n",
       "      <td>1.896080e+05</td>\n",
       "      <td>43.0</td>\n",
       "    </tr>\n",
       "    <tr>\n",
       "      <th>18</th>\n",
       "      <td>2017.0</td>\n",
       "      <td>Nigeria</td>\n",
       "      <td>1</td>\n",
       "      <td>323</td>\n",
       "      <td>4.932000e+04</td>\n",
       "      <td>100.0</td>\n",
       "      <td>0.000000e+00</td>\n",
       "      <td>NaN</td>\n",
       "    </tr>\n",
       "    <tr>\n",
       "      <th>17</th>\n",
       "      <td>2017.0</td>\n",
       "      <td>Mali</td>\n",
       "      <td>1</td>\n",
       "      <td>174</td>\n",
       "      <td>0.000000e+00</td>\n",
       "      <td>NaN</td>\n",
       "      <td>0.000000e+00</td>\n",
       "      <td>NaN</td>\n",
       "    </tr>\n",
       "    <tr>\n",
       "      <th>14</th>\n",
       "      <td>2016.0</td>\n",
       "      <td>Yemen</td>\n",
       "      <td>1</td>\n",
       "      <td>2920</td>\n",
       "      <td>3.409900e+04</td>\n",
       "      <td>61.5</td>\n",
       "      <td>2.162470e+05</td>\n",
       "      <td>0.0</td>\n",
       "    </tr>\n",
       "    <tr>\n",
       "      <th>13</th>\n",
       "      <td>2016.0</td>\n",
       "      <td>Syria</td>\n",
       "      <td>1</td>\n",
       "      <td>1059</td>\n",
       "      <td>7.643100e+04</td>\n",
       "      <td>40.0</td>\n",
       "      <td>4.692860e+05</td>\n",
       "      <td>157.0</td>\n",
       "    </tr>\n",
       "    <tr>\n",
       "      <th>12</th>\n",
       "      <td>2016.0</td>\n",
       "      <td>Nepal</td>\n",
       "      <td>1</td>\n",
       "      <td>8915</td>\n",
       "      <td>0.000000e+00</td>\n",
       "      <td>NaN</td>\n",
       "      <td>1.387960e+07</td>\n",
       "      <td>570.0</td>\n",
       "    </tr>\n",
       "    <tr>\n",
       "      <th>10</th>\n",
       "      <td>2016.0</td>\n",
       "      <td>Haiti</td>\n",
       "      <td>1</td>\n",
       "      <td>2128</td>\n",
       "      <td>6.447300e+05</td>\n",
       "      <td>200.0</td>\n",
       "      <td>6.724700e+04</td>\n",
       "      <td>263.0</td>\n",
       "    </tr>\n",
       "    <tr>\n",
       "      <th>1</th>\n",
       "      <td>2014.0</td>\n",
       "      <td>Palestine</td>\n",
       "      <td>1</td>\n",
       "      <td>49</td>\n",
       "      <td>4.980100e+04</td>\n",
       "      <td>700.0</td>\n",
       "      <td>2.444820e+05</td>\n",
       "      <td>2709.0</td>\n",
       "    </tr>\n",
       "    <tr>\n",
       "      <th>9</th>\n",
       "      <td>2016.0</td>\n",
       "      <td>Ecuador</td>\n",
       "      <td>1</td>\n",
       "      <td>890</td>\n",
       "      <td>8.723720e+05</td>\n",
       "      <td>240.0</td>\n",
       "      <td>2.944000e+03</td>\n",
       "      <td>79.5</td>\n",
       "    </tr>\n",
       "    <tr>\n",
       "      <th>7</th>\n",
       "      <td>2015.0</td>\n",
       "      <td>Yemen</td>\n",
       "      <td>1</td>\n",
       "      <td>1499</td>\n",
       "      <td>3.222900e+04</td>\n",
       "      <td>34.0</td>\n",
       "      <td>2.097760e+05</td>\n",
       "      <td>209.0</td>\n",
       "    </tr>\n",
       "    <tr>\n",
       "      <th>6</th>\n",
       "      <td>2015.0</td>\n",
       "      <td>Syria</td>\n",
       "      <td>1</td>\n",
       "      <td>273</td>\n",
       "      <td>0.000000e+00</td>\n",
       "      <td>NaN</td>\n",
       "      <td>4.125510e+05</td>\n",
       "      <td>0.0</td>\n",
       "    </tr>\n",
       "    <tr>\n",
       "      <th>5</th>\n",
       "      <td>2015.0</td>\n",
       "      <td>South Sudan</td>\n",
       "      <td>1</td>\n",
       "      <td>13421</td>\n",
       "      <td>3.599988e+06</td>\n",
       "      <td>1093.5</td>\n",
       "      <td>1.680573e+08</td>\n",
       "      <td>1472.0</td>\n",
       "    </tr>\n",
       "    <tr>\n",
       "      <th>4</th>\n",
       "      <td>2015.0</td>\n",
       "      <td>Pakistan</td>\n",
       "      <td>1</td>\n",
       "      <td>760</td>\n",
       "      <td>1.056310e+05</td>\n",
       "      <td>16.0</td>\n",
       "      <td>6.879390e+05</td>\n",
       "      <td>96.5</td>\n",
       "    </tr>\n",
       "    <tr>\n",
       "      <th>3</th>\n",
       "      <td>2015.0</td>\n",
       "      <td>Iraq</td>\n",
       "      <td>1</td>\n",
       "      <td>313</td>\n",
       "      <td>6.013700e+04</td>\n",
       "      <td>104.0</td>\n",
       "      <td>0.000000e+00</td>\n",
       "      <td>NaN</td>\n",
       "    </tr>\n",
       "    <tr>\n",
       "      <th>2</th>\n",
       "      <td>2015.0</td>\n",
       "      <td>Ethiopia</td>\n",
       "      <td>1</td>\n",
       "      <td>6</td>\n",
       "      <td>0.000000e+00</td>\n",
       "      <td>NaN</td>\n",
       "      <td>0.000000e+00</td>\n",
       "      <td>0.0</td>\n",
       "    </tr>\n",
       "    <tr>\n",
       "      <th>20</th>\n",
       "      <td>2018.0</td>\n",
       "      <td>Bangladesh</td>\n",
       "      <td>1</td>\n",
       "      <td>17654</td>\n",
       "      <td>1.419588e+07</td>\n",
       "      <td>306.0</td>\n",
       "      <td>2.750276e+07</td>\n",
       "      <td>805.0</td>\n",
       "    </tr>\n",
       "  </tbody>\n",
       "</table>\n",
       "</div>"
      ],
      "text/plain": [
       "     year_     country_  file_nm_nunique  country_count  num_hh_reached_sum  \\\n",
       "15  2017.0  Afghanistan               16           1331        1.116983e+05   \n",
       "8   2016.0  Afghanistan                8            559        1.332500e+04   \n",
       "11  2016.0         Iraq                7           1306        3.133200e+05   \n",
       "19  2017.0      Ukraine                5          59341        1.646432e+06   \n",
       "16  2017.0   Bangladesh                3            428        5.124100e+04   \n",
       "0   2013.0  Afghanistan                1            795        3.075200e+04   \n",
       "18  2017.0      Nigeria                1            323        4.932000e+04   \n",
       "17  2017.0         Mali                1            174        0.000000e+00   \n",
       "14  2016.0        Yemen                1           2920        3.409900e+04   \n",
       "13  2016.0        Syria                1           1059        7.643100e+04   \n",
       "12  2016.0        Nepal                1           8915        0.000000e+00   \n",
       "10  2016.0        Haiti                1           2128        6.447300e+05   \n",
       "1   2014.0    Palestine                1             49        4.980100e+04   \n",
       "9   2016.0      Ecuador                1            890        8.723720e+05   \n",
       "7   2015.0        Yemen                1           1499        3.222900e+04   \n",
       "6   2015.0        Syria                1            273        0.000000e+00   \n",
       "5   2015.0  South Sudan                1          13421        3.599988e+06   \n",
       "4   2015.0     Pakistan                1            760        1.056310e+05   \n",
       "3   2015.0         Iraq                1            313        6.013700e+04   \n",
       "2   2015.0     Ethiopia                1              6        0.000000e+00   \n",
       "20  2018.0   Bangladesh                1          17654        1.419588e+07   \n",
       "\n",
       "    num_hh_reached_median  num_ben_reached_sum  num_ben_reached_median  \n",
       "15                   43.0         6.667285e+06                   222.0  \n",
       "8                    22.0         1.974220e+05                    80.0  \n",
       "11                   75.5         6.796000e+03                  6796.0  \n",
       "19                    8.0         5.563765e+06                    13.0  \n",
       "16                  200.0         2.614700e+05                  1000.0  \n",
       "0                    13.0         1.896080e+05                    43.0  \n",
       "18                  100.0         0.000000e+00                     NaN  \n",
       "17                    NaN         0.000000e+00                     NaN  \n",
       "14                   61.5         2.162470e+05                     0.0  \n",
       "13                   40.0         4.692860e+05                   157.0  \n",
       "12                    NaN         1.387960e+07                   570.0  \n",
       "10                  200.0         6.724700e+04                   263.0  \n",
       "1                   700.0         2.444820e+05                  2709.0  \n",
       "9                   240.0         2.944000e+03                    79.5  \n",
       "7                    34.0         2.097760e+05                   209.0  \n",
       "6                     NaN         4.125510e+05                     0.0  \n",
       "5                  1093.5         1.680573e+08                  1472.0  \n",
       "4                    16.0         6.879390e+05                    96.5  \n",
       "3                   104.0         0.000000e+00                     NaN  \n",
       "2                     NaN         0.000000e+00                     0.0  \n",
       "20                  306.0         2.750276e+07                   805.0  "
      ]
     },
     "execution_count": 47,
     "metadata": {},
     "output_type": "execute_result"
    }
   ],
   "source": [
    "#num reports by year\n",
    "# fill_blank_num = mrgd.\n",
    "d = mrgd[['year', 'country','file_nm', 'uid', 'num_hh_reached', 'num_ben_reached']].groupby(['year', 'country'])\\\n",
    "        .agg({'file_nm': 'nunique', 'country': 'count', 'num_hh_reached' : ['sum', 'median'], 'num_ben_reached' : ['sum', 'median']}).reset_index()\n",
    "\n",
    "d.columns = ['_'.join(col) for col in d.columns.values]\n",
    "    \n",
    "d = d.rename({'uid' : 'total_count'}, axis=1)\n",
    "d.sort_values('file_nm_nunique', ascending = False).to_clipboard()\n",
    "d.sort_values('file_nm_nunique', ascending = False)\n",
    "# pd.pivot_table(d, index='country', values='country', aggfunc=np.count_nonzero, columns=[d['year']]).reset_index()\n",
    "# mrgd[['year', 'country']].drop_duplicates()"
   ]
  },
  {
   "cell_type": "code",
   "execution_count": null,
   "metadata": {
    "collapsed": true
   },
   "outputs": [],
   "source": []
  },
  {
   "cell_type": "code",
   "execution_count": 48,
   "metadata": {
    "collapsed": true
   },
   "outputs": [],
   "source": [
    "mrgd.country.value_counts().to_clipboard()"
   ]
  },
  {
   "cell_type": "code",
   "execution_count": 49,
   "metadata": {
    "collapsed": true
   },
   "outputs": [],
   "source": [
    "mrgd.uid.value_counts().to_clipboard()"
   ]
  },
  {
   "cell_type": "code",
   "execution_count": 50,
   "metadata": {
    "collapsed": true
   },
   "outputs": [],
   "source": [
    "#reg len:125673\n",
    "\n",
    "mrgd.uid.value_counts().to_clipboard()"
   ]
  },
  {
   "cell_type": "code",
   "execution_count": 51,
   "metadata": {
    "collapsed": true
   },
   "outputs": [],
   "source": [
    "#total count by org\n",
    "\n",
    "# d = mrgd[['org','num_hh_reached', 'num_ben_reached']].groupby(['org'])\\\n",
    "#         .agg({'org' : 'count', 'num_hh_reached' : ['sum', 'mean'], 'num_ben_reached' : ['sum', 'mean']}).reset_index()\n",
    "\n",
    "d = mrgd[['org','num_hh_reached', 'num_ben_reached']].groupby(['org'])\\\n",
    "        .agg({'org' : 'count', 'num_hh_reached' : ['sum'], 'num_ben_reached' : ['sum']}).reset_index()\n",
    "\n",
    "\n",
    "d.columns = ['_'.join(col) for col in d.columns.values]\n",
    "\n",
    "d = d.sort_values('org_count', ascending = False)\n",
    "\n",
    "d.to_clipboard()"
   ]
  },
  {
   "cell_type": "code",
   "execution_count": 52,
   "metadata": {},
   "outputs": [
    {
     "name": "stdout",
     "output_type": "stream",
     "text": [
      "UKR2017    21661\n",
      "AFG2017       31\n",
      "AFG2016        2\n",
      "Name: uid, dtype: int64\n",
      "69447\n"
     ]
    }
   ],
   "source": [
    "#PIN, y u so much?\n",
    "print(mrgd[mrgd.org == 'People In Need'].uid.value_counts())\n",
    "\n",
    "print(len(mrgd[mrgd.uid == 'UKR2017']))"
   ]
  },
  {
   "cell_type": "markdown",
   "metadata": {},
   "source": [
    "#### dates"
   ]
  },
  {
   "cell_type": "code",
   "execution_count": 53,
   "metadata": {
    "scrolled": true
   },
   "outputs": [
    {
     "ename": "KeyboardInterrupt",
     "evalue": "",
     "output_type": "error",
     "traceback": [
      "\u001b[0;31m---------------------------------------------------------------------------\u001b[0m",
      "\u001b[0;31mKeyboardInterrupt\u001b[0m                         Traceback (most recent call last)",
      "\u001b[0;32m<ipython-input-53-e0d6192d56ab>\u001b[0m in \u001b[0;36m<module>\u001b[0;34m()\u001b[0m\n\u001b[1;32m      1\u001b[0m \u001b[0;31m#get unique start dts for merging\u001b[0m\u001b[0;34m\u001b[0m\u001b[0;34m\u001b[0m\u001b[0m\n\u001b[0;32m----> 2\u001b[0;31m \u001b[0mstart_dt_fmt\u001b[0m \u001b[0;34m=\u001b[0m \u001b[0;34m[\u001b[0m\u001b[0;34m(\u001b[0m\u001b[0mx\u001b[0m\u001b[0;34m,\u001b[0m \u001b[0mdateparser\u001b[0m\u001b[0;34m.\u001b[0m\u001b[0mparse\u001b[0m\u001b[0;34m(\u001b[0m\u001b[0mx\u001b[0m\u001b[0;34m)\u001b[0m\u001b[0;34m)\u001b[0m \u001b[0;32mfor\u001b[0m \u001b[0mx\u001b[0m \u001b[0;32min\u001b[0m \u001b[0mlist\u001b[0m\u001b[0;34m(\u001b[0m\u001b[0mset\u001b[0m\u001b[0;34m(\u001b[0m\u001b[0;34m[\u001b[0m\u001b[0mv\u001b[0m \u001b[0;32mfor\u001b[0m \u001b[0mv\u001b[0m \u001b[0;32min\u001b[0m \u001b[0mmrgd\u001b[0m\u001b[0;34m.\u001b[0m\u001b[0mstart_dt\u001b[0m\u001b[0;34m.\u001b[0m\u001b[0mvalues\u001b[0m \u001b[0;32mif\u001b[0m \u001b[0misinstance\u001b[0m\u001b[0;34m(\u001b[0m\u001b[0mv\u001b[0m\u001b[0;34m,\u001b[0m \u001b[0mstr\u001b[0m\u001b[0;34m)\u001b[0m\u001b[0;34m]\u001b[0m\u001b[0;34m)\u001b[0m\u001b[0;34m)\u001b[0m\u001b[0;34m]\u001b[0m\u001b[0;34m\u001b[0m\u001b[0m\n\u001b[0m",
      "\u001b[0;32m<ipython-input-53-e0d6192d56ab>\u001b[0m in \u001b[0;36m<listcomp>\u001b[0;34m(.0)\u001b[0m\n\u001b[1;32m      1\u001b[0m \u001b[0;31m#get unique start dts for merging\u001b[0m\u001b[0;34m\u001b[0m\u001b[0;34m\u001b[0m\u001b[0m\n\u001b[0;32m----> 2\u001b[0;31m \u001b[0mstart_dt_fmt\u001b[0m \u001b[0;34m=\u001b[0m \u001b[0;34m[\u001b[0m\u001b[0;34m(\u001b[0m\u001b[0mx\u001b[0m\u001b[0;34m,\u001b[0m \u001b[0mdateparser\u001b[0m\u001b[0;34m.\u001b[0m\u001b[0mparse\u001b[0m\u001b[0;34m(\u001b[0m\u001b[0mx\u001b[0m\u001b[0;34m)\u001b[0m\u001b[0;34m)\u001b[0m \u001b[0;32mfor\u001b[0m \u001b[0mx\u001b[0m \u001b[0;32min\u001b[0m \u001b[0mlist\u001b[0m\u001b[0;34m(\u001b[0m\u001b[0mset\u001b[0m\u001b[0;34m(\u001b[0m\u001b[0;34m[\u001b[0m\u001b[0mv\u001b[0m \u001b[0;32mfor\u001b[0m \u001b[0mv\u001b[0m \u001b[0;32min\u001b[0m \u001b[0mmrgd\u001b[0m\u001b[0;34m.\u001b[0m\u001b[0mstart_dt\u001b[0m\u001b[0;34m.\u001b[0m\u001b[0mvalues\u001b[0m \u001b[0;32mif\u001b[0m \u001b[0misinstance\u001b[0m\u001b[0;34m(\u001b[0m\u001b[0mv\u001b[0m\u001b[0;34m,\u001b[0m \u001b[0mstr\u001b[0m\u001b[0;34m)\u001b[0m\u001b[0;34m]\u001b[0m\u001b[0;34m)\u001b[0m\u001b[0;34m)\u001b[0m\u001b[0;34m]\u001b[0m\u001b[0;34m\u001b[0m\u001b[0m\n\u001b[0m",
      "\u001b[0;32m~/Documents/work/code/venv/p3/lib/python3.6/site-packages/dateparser/conf.py\u001b[0m in \u001b[0;36mwrapper\u001b[0;34m(*args, **kwargs)\u001b[0m\n\u001b[1;32m     82\u001b[0m                 \"settings can only be either dict or instance of Settings class\")\n\u001b[1;32m     83\u001b[0m \u001b[0;34m\u001b[0m\u001b[0m\n\u001b[0;32m---> 84\u001b[0;31m         \u001b[0;32mreturn\u001b[0m \u001b[0mf\u001b[0m\u001b[0;34m(\u001b[0m\u001b[0;34m*\u001b[0m\u001b[0margs\u001b[0m\u001b[0;34m,\u001b[0m \u001b[0;34m**\u001b[0m\u001b[0mkwargs\u001b[0m\u001b[0;34m)\u001b[0m\u001b[0;34m\u001b[0m\u001b[0m\n\u001b[0m\u001b[1;32m     85\u001b[0m     \u001b[0;32mreturn\u001b[0m \u001b[0mwrapper\u001b[0m\u001b[0;34m\u001b[0m\u001b[0m\n",
      "\u001b[0;32m~/Documents/work/code/venv/p3/lib/python3.6/site-packages/dateparser/__init__.py\u001b[0m in \u001b[0;36mparse\u001b[0;34m(date_string, date_formats, languages, settings)\u001b[0m\n\u001b[1;32m     38\u001b[0m         \u001b[0mparser\u001b[0m \u001b[0;34m=\u001b[0m \u001b[0mDateDataParser\u001b[0m\u001b[0;34m(\u001b[0m\u001b[0mlanguages\u001b[0m\u001b[0;34m=\u001b[0m\u001b[0mlanguages\u001b[0m\u001b[0;34m,\u001b[0m \u001b[0msettings\u001b[0m\u001b[0;34m=\u001b[0m\u001b[0msettings\u001b[0m\u001b[0;34m)\u001b[0m\u001b[0;34m\u001b[0m\u001b[0m\n\u001b[1;32m     39\u001b[0m \u001b[0;34m\u001b[0m\u001b[0m\n\u001b[0;32m---> 40\u001b[0;31m     \u001b[0mdata\u001b[0m \u001b[0;34m=\u001b[0m \u001b[0mparser\u001b[0m\u001b[0;34m.\u001b[0m\u001b[0mget_date_data\u001b[0m\u001b[0;34m(\u001b[0m\u001b[0mdate_string\u001b[0m\u001b[0;34m,\u001b[0m \u001b[0mdate_formats\u001b[0m\u001b[0;34m)\u001b[0m\u001b[0;34m\u001b[0m\u001b[0m\n\u001b[0m\u001b[1;32m     41\u001b[0m \u001b[0;34m\u001b[0m\u001b[0m\n\u001b[1;32m     42\u001b[0m     \u001b[0;32mif\u001b[0m \u001b[0mdata\u001b[0m\u001b[0;34m:\u001b[0m\u001b[0;34m\u001b[0m\u001b[0m\n",
      "\u001b[0;32m~/Documents/work/code/venv/p3/lib/python3.6/site-packages/dateparser/date.py\u001b[0m in \u001b[0;36mget_date_data\u001b[0;34m(self, date_string, date_formats)\u001b[0m\n\u001b[1;32m    367\u001b[0m \u001b[0;34m\u001b[0m\u001b[0m\n\u001b[1;32m    368\u001b[0m         for language in self.language_detector.iterate_applicable_languages(\n\u001b[0;32m--> 369\u001b[0;31m                 date_string, modify=True, settings=self._settings):\n\u001b[0m\u001b[1;32m    370\u001b[0m             parsed_date = _DateLanguageParser.parse(\n\u001b[1;32m    371\u001b[0m                 language, date_string, date_formats, settings=self._settings)\n",
      "\u001b[0;32m~/Documents/work/code/venv/p3/lib/python3.6/site-packages/dateparser/languages/detection.py\u001b[0m in \u001b[0;36mwrapped\u001b[0;34m(self, *args, **kwargs)\u001b[0m\n\u001b[1;32m      7\u001b[0m     \u001b[0;32mdef\u001b[0m \u001b[0mwrapped\u001b[0m\u001b[0;34m(\u001b[0m\u001b[0mself\u001b[0m\u001b[0;34m,\u001b[0m \u001b[0;34m*\u001b[0m\u001b[0margs\u001b[0m\u001b[0;34m,\u001b[0m \u001b[0;34m**\u001b[0m\u001b[0mkwargs\u001b[0m\u001b[0;34m)\u001b[0m\u001b[0;34m:\u001b[0m\u001b[0;34m\u001b[0m\u001b[0m\n\u001b[1;32m      8\u001b[0m         \u001b[0mstored_languages\u001b[0m \u001b[0;34m=\u001b[0m \u001b[0mself\u001b[0m\u001b[0;34m.\u001b[0m\u001b[0mlanguages\u001b[0m\u001b[0;34m[\u001b[0m\u001b[0;34m:\u001b[0m\u001b[0;34m]\u001b[0m\u001b[0;34m\u001b[0m\u001b[0m\n\u001b[0;32m----> 9\u001b[0;31m         \u001b[0;32mfor\u001b[0m \u001b[0mlanguage\u001b[0m \u001b[0;32min\u001b[0m \u001b[0mmethod\u001b[0m\u001b[0;34m(\u001b[0m\u001b[0mself\u001b[0m\u001b[0;34m,\u001b[0m \u001b[0;34m*\u001b[0m\u001b[0margs\u001b[0m\u001b[0;34m,\u001b[0m \u001b[0;34m**\u001b[0m\u001b[0mkwargs\u001b[0m\u001b[0;34m)\u001b[0m\u001b[0;34m:\u001b[0m\u001b[0;34m\u001b[0m\u001b[0m\n\u001b[0m\u001b[1;32m     10\u001b[0m             \u001b[0;32myield\u001b[0m \u001b[0mlanguage\u001b[0m\u001b[0;34m\u001b[0m\u001b[0m\n\u001b[1;32m     11\u001b[0m         \u001b[0;32melse\u001b[0m\u001b[0;34m:\u001b[0m\u001b[0;34m\u001b[0m\u001b[0m\n",
      "\u001b[0;32m~/Documents/work/code/venv/p3/lib/python3.6/site-packages/dateparser/languages/detection.py\u001b[0m in \u001b[0;36miterate_applicable_languages\u001b[0;34m(self, date_string, modify, settings)\u001b[0m\n\u001b[1;32m     60\u001b[0m             \u001b[0mself\u001b[0m\u001b[0;34m.\u001b[0m\u001b[0mlanguages\u001b[0m \u001b[0;34m=\u001b[0m \u001b[0mlanguages\u001b[0m\u001b[0;34m\u001b[0m\u001b[0m\n\u001b[1;32m     61\u001b[0m \u001b[0;34m\u001b[0m\u001b[0m\n\u001b[0;32m---> 62\u001b[0;31m         \u001b[0;32mfor\u001b[0m \u001b[0mlanguage\u001b[0m \u001b[0;32min\u001b[0m \u001b[0mself\u001b[0m\u001b[0;34m.\u001b[0m\u001b[0m_filter_languages\u001b[0m\u001b[0;34m(\u001b[0m\u001b[0mdate_string\u001b[0m\u001b[0;34m,\u001b[0m \u001b[0mlanguages\u001b[0m\u001b[0;34m,\u001b[0m \u001b[0msettings\u001b[0m\u001b[0;34m=\u001b[0m\u001b[0msettings\u001b[0m\u001b[0;34m)\u001b[0m\u001b[0;34m:\u001b[0m\u001b[0;34m\u001b[0m\u001b[0m\n\u001b[0m\u001b[1;32m     63\u001b[0m             \u001b[0;32myield\u001b[0m \u001b[0mlanguage\u001b[0m\u001b[0;34m\u001b[0m\u001b[0m\n\u001b[1;32m     64\u001b[0m \u001b[0;34m\u001b[0m\u001b[0m\n",
      "\u001b[0;32m~/Documents/work/code/venv/p3/lib/python3.6/site-packages/dateparser/languages/detection.py\u001b[0m in \u001b[0;36m_filter_languages\u001b[0;34m(date_string, languages, settings)\u001b[0m\n\u001b[1;32m     31\u001b[0m             \u001b[0;32mif\u001b[0m \u001b[0mlanguage\u001b[0m\u001b[0;34m.\u001b[0m\u001b[0mis_applicable\u001b[0m\u001b[0;34m(\u001b[0m\u001b[0mdate_string\u001b[0m\u001b[0;34m,\u001b[0m \u001b[0mstrip_timezone\u001b[0m\u001b[0;34m=\u001b[0m\u001b[0;32mFalse\u001b[0m\u001b[0;34m,\u001b[0m \u001b[0msettings\u001b[0m\u001b[0;34m=\u001b[0m\u001b[0msettings\u001b[0m\u001b[0;34m)\u001b[0m\u001b[0;34m:\u001b[0m\u001b[0;34m\u001b[0m\u001b[0m\n\u001b[1;32m     32\u001b[0m                 \u001b[0;32myield\u001b[0m \u001b[0mlanguage\u001b[0m\u001b[0;34m\u001b[0m\u001b[0m\n\u001b[0;32m---> 33\u001b[0;31m             \u001b[0;32melif\u001b[0m \u001b[0mlanguage\u001b[0m\u001b[0;34m.\u001b[0m\u001b[0mis_applicable\u001b[0m\u001b[0;34m(\u001b[0m\u001b[0mdate_string\u001b[0m\u001b[0;34m,\u001b[0m \u001b[0mstrip_timezone\u001b[0m\u001b[0;34m=\u001b[0m\u001b[0;32mTrue\u001b[0m\u001b[0;34m,\u001b[0m \u001b[0msettings\u001b[0m\u001b[0;34m=\u001b[0m\u001b[0msettings\u001b[0m\u001b[0;34m)\u001b[0m\u001b[0;34m:\u001b[0m\u001b[0;34m\u001b[0m\u001b[0m\n\u001b[0m\u001b[1;32m     34\u001b[0m                 \u001b[0;32myield\u001b[0m \u001b[0mlanguage\u001b[0m\u001b[0;34m\u001b[0m\u001b[0m\n\u001b[1;32m     35\u001b[0m \u001b[0;34m\u001b[0m\u001b[0m\n",
      "\u001b[0;32m~/Documents/work/code/venv/p3/lib/python3.6/site-packages/dateparser/languages/language.py\u001b[0m in \u001b[0;36mis_applicable\u001b[0;34m(self, date_string, strip_timezone, settings)\u001b[0m\n\u001b[1;32m     35\u001b[0m             \u001b[0mdate_string\u001b[0m\u001b[0;34m,\u001b[0m \u001b[0m_\u001b[0m \u001b[0;34m=\u001b[0m \u001b[0mpop_tz_offset_from_string\u001b[0m\u001b[0;34m(\u001b[0m\u001b[0mdate_string\u001b[0m\u001b[0;34m,\u001b[0m \u001b[0mas_offset\u001b[0m\u001b[0;34m=\u001b[0m\u001b[0;32mFalse\u001b[0m\u001b[0;34m)\u001b[0m\u001b[0;34m\u001b[0m\u001b[0m\n\u001b[1;32m     36\u001b[0m \u001b[0;34m\u001b[0m\u001b[0m\n\u001b[0;32m---> 37\u001b[0;31m         \u001b[0mdate_string\u001b[0m \u001b[0;34m=\u001b[0m \u001b[0mself\u001b[0m\u001b[0;34m.\u001b[0m\u001b[0m_simplify\u001b[0m\u001b[0;34m(\u001b[0m\u001b[0mdate_string\u001b[0m\u001b[0;34m,\u001b[0m \u001b[0msettings\u001b[0m\u001b[0;34m=\u001b[0m\u001b[0msettings\u001b[0m\u001b[0;34m)\u001b[0m\u001b[0;34m\u001b[0m\u001b[0m\n\u001b[0m\u001b[1;32m     38\u001b[0m         \u001b[0mtokens\u001b[0m \u001b[0;34m=\u001b[0m \u001b[0mself\u001b[0m\u001b[0;34m.\u001b[0m\u001b[0m_split\u001b[0m\u001b[0;34m(\u001b[0m\u001b[0mdate_string\u001b[0m\u001b[0;34m,\u001b[0m \u001b[0mkeep_formatting\u001b[0m\u001b[0;34m=\u001b[0m\u001b[0;32mFalse\u001b[0m\u001b[0;34m,\u001b[0m \u001b[0msettings\u001b[0m\u001b[0;34m=\u001b[0m\u001b[0msettings\u001b[0m\u001b[0;34m)\u001b[0m\u001b[0;34m\u001b[0m\u001b[0m\n\u001b[1;32m     39\u001b[0m         \u001b[0;32mif\u001b[0m \u001b[0mself\u001b[0m\u001b[0;34m.\u001b[0m\u001b[0m_is_date_consists_of_digits_only\u001b[0m\u001b[0;34m(\u001b[0m\u001b[0mtokens\u001b[0m\u001b[0;34m)\u001b[0m\u001b[0;34m:\u001b[0m\u001b[0;34m\u001b[0m\u001b[0m\n",
      "\u001b[0;32m~/Documents/work/code/venv/p3/lib/python3.6/site-packages/dateparser/languages/language.py\u001b[0m in \u001b[0;36m_simplify\u001b[0;34m(self, date_string, settings)\u001b[0m\n\u001b[1;32m     62\u001b[0m             \u001b[0mpattern\u001b[0m\u001b[0;34m,\u001b[0m \u001b[0mreplacement\u001b[0m \u001b[0;34m=\u001b[0m \u001b[0mlist\u001b[0m\u001b[0;34m(\u001b[0m\u001b[0msimplification\u001b[0m\u001b[0;34m.\u001b[0m\u001b[0mitems\u001b[0m\u001b[0;34m(\u001b[0m\u001b[0;34m)\u001b[0m\u001b[0;34m)\u001b[0m\u001b[0;34m[\u001b[0m\u001b[0;36m0\u001b[0m\u001b[0;34m]\u001b[0m\u001b[0;34m\u001b[0m\u001b[0m\n\u001b[1;32m     63\u001b[0m             \u001b[0;32mif\u001b[0m \u001b[0;32mnot\u001b[0m \u001b[0mself\u001b[0m\u001b[0;34m.\u001b[0m\u001b[0minfo\u001b[0m\u001b[0;34m.\u001b[0m\u001b[0mget\u001b[0m\u001b[0;34m(\u001b[0m\u001b[0;34m'no_word_spacing'\u001b[0m\u001b[0;34m,\u001b[0m \u001b[0;32mFalse\u001b[0m\u001b[0;34m)\u001b[0m\u001b[0;34m:\u001b[0m\u001b[0;34m\u001b[0m\u001b[0m\n\u001b[0;32m---> 64\u001b[0;31m                 \u001b[0mreplacement\u001b[0m \u001b[0;34m=\u001b[0m \u001b[0mwrap_replacement_for_regex\u001b[0m\u001b[0;34m(\u001b[0m\u001b[0mreplacement\u001b[0m\u001b[0;34m,\u001b[0m \u001b[0mpattern\u001b[0m\u001b[0;34m)\u001b[0m\u001b[0;34m\u001b[0m\u001b[0m\n\u001b[0m\u001b[1;32m     65\u001b[0m                 \u001b[0mpattern\u001b[0m \u001b[0;34m=\u001b[0m \u001b[0;34mr'(\\A|\\d|_|\\W)%s(\\d|_|\\W|\\Z)'\u001b[0m \u001b[0;34m%\u001b[0m \u001b[0mpattern\u001b[0m\u001b[0;34m\u001b[0m\u001b[0m\n\u001b[1;32m     66\u001b[0m             date_string = re.sub(\n",
      "\u001b[0;32m~/Documents/work/code/venv/p3/lib/python3.6/site-packages/dateparser/utils/__init__.py\u001b[0m in \u001b[0;36mwrap_replacement_for_regex\u001b[0;34m(replacement, regex)\u001b[0m\n\u001b[1;32m     35\u001b[0m \u001b[0;34m\u001b[0m\u001b[0m\n\u001b[1;32m     36\u001b[0m     \u001b[0;31m# append group to replacement\u001b[0m\u001b[0;34m\u001b[0m\u001b[0;34m\u001b[0m\u001b[0m\n\u001b[0;32m---> 37\u001b[0;31m     \u001b[0mused_groups\u001b[0m \u001b[0;34m=\u001b[0m \u001b[0mre\u001b[0m\u001b[0;34m.\u001b[0m\u001b[0mcompile\u001b[0m\u001b[0;34m(\u001b[0m\u001b[0mregex\u001b[0m\u001b[0;34m)\u001b[0m\u001b[0;34m.\u001b[0m\u001b[0mgroups\u001b[0m\u001b[0;34m\u001b[0m\u001b[0m\n\u001b[0m\u001b[1;32m     38\u001b[0m     \u001b[0mnew_group\u001b[0m \u001b[0;34m=\u001b[0m \u001b[0mused_groups\u001b[0m \u001b[0;34m+\u001b[0m \u001b[0;36m2\u001b[0m  \u001b[0;31m# Consider that we already prepended replacement with one group\u001b[0m\u001b[0;34m\u001b[0m\u001b[0m\n\u001b[1;32m     39\u001b[0m     \u001b[0mreplacement\u001b[0m \u001b[0;34m=\u001b[0m \u001b[0;34m\"%s\\\\g<%d>\"\u001b[0m \u001b[0;34m%\u001b[0m \u001b[0;34m(\u001b[0m\u001b[0mreplacement\u001b[0m\u001b[0;34m,\u001b[0m \u001b[0mnew_group\u001b[0m\u001b[0;34m)\u001b[0m\u001b[0;34m\u001b[0m\u001b[0m\n",
      "\u001b[0;32m~/Documents/work/code/venv/p3/lib/python3.6/site-packages/regex.py\u001b[0m in \u001b[0;36mcompile\u001b[0;34m(pattern, flags, **kwargs)\u001b[0m\n\u001b[1;32m    343\u001b[0m \u001b[0;32mdef\u001b[0m \u001b[0mcompile\u001b[0m\u001b[0;34m(\u001b[0m\u001b[0mpattern\u001b[0m\u001b[0;34m,\u001b[0m \u001b[0mflags\u001b[0m\u001b[0;34m=\u001b[0m\u001b[0;36m0\u001b[0m\u001b[0;34m,\u001b[0m \u001b[0;34m**\u001b[0m\u001b[0mkwargs\u001b[0m\u001b[0;34m)\u001b[0m\u001b[0;34m:\u001b[0m\u001b[0;34m\u001b[0m\u001b[0m\n\u001b[1;32m    344\u001b[0m     \u001b[0;34m\"Compile a regular expression pattern, returning a pattern object.\"\u001b[0m\u001b[0;34m\u001b[0m\u001b[0m\n\u001b[0;32m--> 345\u001b[0;31m     \u001b[0;32mreturn\u001b[0m \u001b[0m_compile\u001b[0m\u001b[0;34m(\u001b[0m\u001b[0mpattern\u001b[0m\u001b[0;34m,\u001b[0m \u001b[0mflags\u001b[0m\u001b[0;34m,\u001b[0m \u001b[0mkwargs\u001b[0m\u001b[0;34m)\u001b[0m\u001b[0;34m\u001b[0m\u001b[0m\n\u001b[0m\u001b[1;32m    346\u001b[0m \u001b[0;34m\u001b[0m\u001b[0m\n\u001b[1;32m    347\u001b[0m \u001b[0;32mdef\u001b[0m \u001b[0mpurge\u001b[0m\u001b[0;34m(\u001b[0m\u001b[0;34m)\u001b[0m\u001b[0;34m:\u001b[0m\u001b[0;34m\u001b[0m\u001b[0m\n",
      "\u001b[0;32m~/Documents/work/code/venv/p3/lib/python3.6/site-packages/regex.py\u001b[0m in \u001b[0;36m_compile\u001b[0;34m(pattern, flags, kwargs)\u001b[0m\n\u001b[1;32m    435\u001b[0m \u001b[0;34m\u001b[0m\u001b[0m\n\u001b[1;32m    436\u001b[0m     \u001b[0;31m# What locale is this pattern using?\u001b[0m\u001b[0;34m\u001b[0m\u001b[0;34m\u001b[0m\u001b[0m\n\u001b[0;32m--> 437\u001b[0;31m     \u001b[0mlocale_key\u001b[0m \u001b[0;34m=\u001b[0m \u001b[0;34m(\u001b[0m\u001b[0mtype\u001b[0m\u001b[0;34m(\u001b[0m\u001b[0mpattern\u001b[0m\u001b[0;34m)\u001b[0m\u001b[0;34m,\u001b[0m \u001b[0mpattern\u001b[0m\u001b[0;34m)\u001b[0m\u001b[0;34m\u001b[0m\u001b[0m\n\u001b[0m\u001b[1;32m    438\u001b[0m     \u001b[0;32mif\u001b[0m \u001b[0m_locale_sensitive\u001b[0m\u001b[0;34m.\u001b[0m\u001b[0mget\u001b[0m\u001b[0;34m(\u001b[0m\u001b[0mlocale_key\u001b[0m\u001b[0;34m,\u001b[0m \u001b[0;32mTrue\u001b[0m\u001b[0;34m)\u001b[0m \u001b[0;32mor\u001b[0m \u001b[0;34m(\u001b[0m\u001b[0mflags\u001b[0m \u001b[0;34m&\u001b[0m \u001b[0mLOCALE\u001b[0m\u001b[0;34m)\u001b[0m \u001b[0;34m!=\u001b[0m \u001b[0;36m0\u001b[0m\u001b[0;34m:\u001b[0m\u001b[0;34m\u001b[0m\u001b[0m\n\u001b[1;32m    439\u001b[0m         \u001b[0;31m# This pattern is, or might be, locale-sensitive.\u001b[0m\u001b[0;34m\u001b[0m\u001b[0;34m\u001b[0m\u001b[0m\n",
      "\u001b[0;31mKeyboardInterrupt\u001b[0m: "
     ]
    }
   ],
   "source": [
    "#get unique start dts for merging\n",
    "start_dt_fmt = [(x, dateparser.parse(x)) for x in list(set([v for v in mrgd.start_dt.values if isinstance(v, str)]))]"
   ]
  },
  {
   "cell_type": "code",
   "execution_count": null,
   "metadata": {
    "collapsed": true
   },
   "outputs": [],
   "source": [
    "#get unique end dts for merging\n",
    "end_dt_fmt = [(x, dateparser.parse(x)) for x in list(set([v for v in mrgd.end_dt.values if isinstance(v, str)]))]"
   ]
  },
  {
   "cell_type": "code",
   "execution_count": null,
   "metadata": {
    "collapsed": true
   },
   "outputs": [],
   "source": [
    "#get unique rep dts for merging\n",
    "date_rep_fmt = [(x, dateparser.parse(x)) for x in list(set([v for v in mrgd.date_rep.values if isinstance(v, str)]))]"
   ]
  },
  {
   "cell_type": "code",
   "execution_count": null,
   "metadata": {},
   "outputs": [],
   "source": [
    "#end: 8951 missing\n",
    "len(mrgd[mrgd.apply(lambda x: isinstance(x.date_rep, str), axis = 1)])\n"
   ]
  },
  {
   "cell_type": "markdown",
   "metadata": {},
   "source": [
    "#### merge formatted dates with missing dates"
   ]
  },
  {
   "cell_type": "code",
   "execution_count": null,
   "metadata": {},
   "outputs": [],
   "source": [
    "#start: 8951 missing\n",
    "len(mrgd[mrgd.apply(lambda x: isinstance(x.start_dt, str), axis = 1)])\n",
    "\n",
    "#end: 109 missing\n",
    "len(mrgd[mrgd.apply(lambda x: isinstance(x.end_dt, str), axis = 1)])\n",
    "\n",
    "#start: 727 missing\n",
    "len(mrgd[mrgd.apply(lambda x: isinstance(x.date_rep, str), axis = 1)])"
   ]
  },
  {
   "cell_type": "code",
   "execution_count": null,
   "metadata": {},
   "outputs": [],
   "source": [
    "s_d = pd.DataFrame(start_dt_fmt, columns=['str', 'fmt'])\n",
    "\n",
    "# mrgd.merge(s_d, left_on = 'start_dt', right_on='fmt')\n",
    "\n",
    "def find(v):\n",
    "    if v in s_d.str.values:\n",
    "        return s_d[s_d.str == v].fmt\n",
    "    else:\n",
    "        return ''\n",
    "\n",
    "# m.new = m.apply(lambda x : find(x.col1), axis = 1)\n",
    "\n",
    "mrgd.start_dt = mrgd.apply(lambda x : find(x.start_dt), axis=1)"
   ]
  },
  {
   "cell_type": "code",
   "execution_count": null,
   "metadata": {},
   "outputs": [],
   "source": [
    "#counts in same year?\n",
    "r = mrgd.start_dt.head(500).apply(lambda x : dateparser.parse(x) if isinstance(x, str) else None)"
   ]
  },
  {
   "cell_type": "code",
   "execution_count": 58,
   "metadata": {
    "scrolled": true
   },
   "outputs": [],
   "source": [
    "#counts by dist type\n",
    "\n",
    "d = mrgd[['act_detail','num_hh_reached', 'num_ben_reached']].groupby(['act_detail'])\\\n",
    "        .agg({'num_hh_reached' : ['sum'], 'num_ben_reached' : ['sum'], 'act_detail' : 'count'}).reset_index()\n",
    "\n",
    "d.columns = ['_'.join(col) for col in d.columns.values]\n",
    "\n",
    "d.sort_values('num_ben_reached_sum', ascending=False).to_excel('../d0cz/tmpacts.xlsx')\n",
    "\n",
    "# mrgd.act_detail.value_counts()"
   ]
  },
  {
   "cell_type": "code",
   "execution_count": 179,
   "metadata": {
    "scrolled": true
   },
   "outputs": [],
   "source": [
    "#dist by country\n",
    "t_mrgd = mrgd\n",
    "\n",
    "d = t_mrgd[['act_detail','num_hh_reached', 'num_ben_reached', 'country', 'year']].groupby(['act_detail', 'country', 'year'])\\\n",
    "        .agg({'num_hh_reached' : ['sum'], 'num_ben_reached' : ['sum'], 'act_detail' : 'count'}).reset_index()\n",
    "\n",
    "d.columns = ['_'.join(col) for col in d.columns.values]\n",
    "\n",
    "d.sort_values('num_ben_reached_sum', ascending=False)\n",
    "\n",
    "d.to_clipboard()"
   ]
  },
  {
   "cell_type": "code",
   "execution_count": 163,
   "metadata": {},
   "outputs": [
    {
     "data": {
      "text/plain": [
       "522"
      ]
     },
     "execution_count": 163,
     "metadata": {},
     "output_type": "execute_result"
    }
   ],
   "source": [
    "#gen count length\n",
    "\n",
    "gen_d = mrgd[['act_detail','num_hh_reached', 'num_ben_reached']].groupby(['act_detail'])\\\n",
    "        .agg({'num_hh_reached' : ['sum'], 'num_ben_reached' : ['sum'], 'act_detail' : 'count'}).reset_index()\n",
    "\n",
    "gen_d.columns = ['_'.join(col) for col in gen_d.columns.values]\n",
    "\n",
    "gen_d.sort_values('num_ben_reached_sum', ascending=False)\n",
    "\n",
    "len(gen_d)"
   ]
  },
  {
   "cell_type": "code",
   "execution_count": 106,
   "metadata": {},
   "outputs": [
    {
     "data": {
      "text/plain": [
       "40567"
      ]
     },
     "execution_count": 106,
     "metadata": {},
     "output_type": "execute_result"
    }
   ],
   "source": [
    "#get count length with xed\n",
    "\n",
    "gen_d_xed = mrgd[['act_detail','num_hh_reached', 'num_ben_reached']].groupby(['act_detail'])\\\n",
    "        .agg({'num_hh_reached' : ['sum'], 'num_ben_reached' : ['sum'], 'act_detail' : 'count'}).reset_index()\n",
    "\n",
    "gen_d_xed.columns = ['_'.join(col) for col in gen_d_xed.columns.values]\n",
    "\n",
    "gen_d_xed.sort_values('num_ben_reached_sum', ascending=False)\n",
    "\n",
    "sum(gen_d_xed.act_detail_count)"
   ]
  },
  {
   "cell_type": "code",
   "execution_count": null,
   "metadata": {},
   "outputs": [],
   "source": [
    "#counts by dist area (not really useful)\n",
    "\n",
    "d = mrgd[['act_cat','num_hh_reached', 'num_ben_reached']].groupby(['act_cat'])\\\n",
    "        .agg({'num_hh_reached' : ['sum'], 'num_ben_reached' : ['sum'], 'act_cat' : 'count'}).reset_index()\n",
    "\n",
    "d.columns = ['_'.join(col) for col in d.columns.values]\n",
    "\n",
    "d.sort_values('num_ben_reached_sum', ascending=False)\n"
   ]
  },
  {
   "cell_type": "code",
   "execution_count": 113,
   "metadata": {
    "collapsed": true
   },
   "outputs": [],
   "source": [
    "#data completeness\n",
    "\n",
    "b = pd.DataFrame(xed.isnull().sum()).reset_index()\n",
    "\n",
    "b['pct'] = (1 - (b[0]/len(mrgd))) * 100\n",
    "\n",
    "b.to_clipboard()"
   ]
  },
  {
   "cell_type": "code",
   "execution_count": null,
   "metadata": {},
   "outputs": [],
   "source": [
    "###data completeness by report\n",
    "\n",
    "#first get number of rows per report\n",
    "tot_cnts = mrgd.uid.value_counts()\n",
    "\n",
    "#then get num of blank cells per report\n",
    "cols = list(xed.columns) + ['uid']\n",
    "cols.remove('mrg_v_ed')\n",
    "cols.remove('file_nm')\n",
    "\n",
    "null_cnt = {}\n",
    "\n",
    "UID_COL = 'uid'\n",
    "cnt = 0\n",
    "def find_empt(r):\n",
    "    global cnt\n",
    "    cnt += 1\n",
    "    if cnt % 1000 == 0:\n",
    "        print(cnt)\n",
    "            \n",
    "    uid = r[UID_COL]\n",
    "    r.drop(UID_COL)\n",
    "    \n",
    "    num_empt = sum(r.isnull())\n",
    "    \n",
    "    if r[UID_COL] in null_cnt:\n",
    "        null_cnt[r[UID_COL]] += num_empt\n",
    "        \n",
    "    else:\n",
    "        null_cnt[r[UID_COL]] = num_empt\n",
    "    \n",
    "mrgd.apply(lambda x : find_empt(x[cols]), axis = 1)"
   ]
  },
  {
   "cell_type": "code",
   "execution_count": null,
   "metadata": {
    "collapsed": true
   },
   "outputs": [],
   "source": [
    "#...continuation\n",
    "\n",
    "#now merge\n",
    "ordr = OrderedDict(null_cnt)\n",
    "msg_bdown = pd.DataFrame(tot_cnts).reset_index()\n",
    "msg_cnt = pd.DataFrame({'index' : list(ordr.keys()), 'msg_vals' : list(ordr.values())}).reset_index()\n",
    "\n",
    "msg_bdown = msg_bdown.merge(msg_cnt, on = 'index')\n",
    "msg_bdown = msg_bdown.rename({'uid' : 'num_row'}, axis = 1)\n",
    "\n",
    "#-1 for UID\n",
    "msg_bdown['num_vals'] = msg_bdown.num_row * (len(cols) - 1)\n",
    "msg_bdown['pct_missing'] = msg_bdown.msg_vals / msg_bdown.num_vals\n",
    "\n",
    "msg_bdown = msg_bdown.merge(mrgd[['uid', 'country', 'year']].drop_duplicates(), left_on = 'index', right_on='uid', how = 'inner')\n",
    "\n",
    "msg_bdown = msg_bdown[~msg_bdown.country.isna()]\n",
    "\n",
    "msg_bdown.to_clipboard()"
   ]
  }
 ],
 "metadata": {
  "kernelspec": {
   "display_name": "Django Shell-Plus",
   "language": "python",
   "name": "django_extensions"
  },
  "language_info": {
   "codemirror_mode": {
    "name": "ipython",
    "version": 3
   },
   "file_extension": ".py",
   "mimetype": "text/x-python",
   "name": "python",
   "nbconvert_exporter": "python",
   "pygments_lexer": "ipython3",
   "version": "3.6.1"
  }
 },
 "nbformat": 4,
 "nbformat_minor": 2
}

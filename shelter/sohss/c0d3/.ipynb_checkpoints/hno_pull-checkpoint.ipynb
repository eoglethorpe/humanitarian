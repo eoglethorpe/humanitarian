{
 "cells": [
  {
   "cell_type": "code",
   "execution_count": 141,
   "metadata": {
    "collapsed": true
   },
   "outputs": [],
   "source": [
    "\"\"\"read in HNO data, convert ISOz\"\"\"\n",
    "from collections import OrderedDict\n",
    "\n",
    "import pandas as pd\n",
    "import country_converter as coco\n",
    "import numpy as np\n",
    "\n",
    "\n",
    "pd.options.display.max_rows = 999\n"
   ]
  },
  {
   "cell_type": "code",
   "execution_count": 86,
   "metadata": {},
   "outputs": [
    {
     "name": "stdout",
     "output_type": "stream",
     "text": [
      "none\n"
     ]
    },
    {
     "data": {
      "text/plain": [
       "{1: None}"
      ]
     },
     "execution_count": 86,
     "metadata": {},
     "output_type": "execute_result"
    }
   ],
   "source": [
    "d = {1 : []}\n",
    "\n",
    "for k,v in d.items():\n",
    "    if len(v) == 0:\n",
    "        print('none')\n",
    "        d[k] = None\n",
    "    elif len(v) == 1:\n",
    "        v = v[0]\n",
    "d"
   ]
  },
  {
   "cell_type": "code",
   "execution_count": 117,
   "metadata": {},
   "outputs": [
    {
     "data": {
      "text/plain": [
       "True"
      ]
     },
     "execution_count": 117,
     "metadata": {},
     "output_type": "execute_result"
    }
   ],
   "source": [
    "x = 'asdf'\n",
    "\n",
    "str(x).count(',') <= 1"
   ]
  },
  {
   "cell_type": "code",
   "execution_count": 142,
   "metadata": {},
   "outputs": [
    {
     "ename": "TypeError",
     "evalue": "must be str, not NoneType",
     "output_type": "error",
     "traceback": [
      "\u001b[0;31m---------------------------------------------------------------------------\u001b[0m",
      "\u001b[0;31mTypeError\u001b[0m                                 Traceback (most recent call last)",
      "\u001b[0;32m~/Documents/work/code/venv/p3/lib/python3.6/site-packages/pandas/core/ops.py\u001b[0m in \u001b[0;36mna_op\u001b[0;34m(x, y)\u001b[0m\n\u001b[1;32m   1008\u001b[0m         \u001b[0;32mtry\u001b[0m\u001b[0;34m:\u001b[0m\u001b[0;34m\u001b[0m\u001b[0m\n\u001b[0;32m-> 1009\u001b[0;31m             \u001b[0mresult\u001b[0m \u001b[0;34m=\u001b[0m \u001b[0mexpressions\u001b[0m\u001b[0;34m.\u001b[0m\u001b[0mevaluate\u001b[0m\u001b[0;34m(\u001b[0m\u001b[0mop\u001b[0m\u001b[0;34m,\u001b[0m \u001b[0mstr_rep\u001b[0m\u001b[0;34m,\u001b[0m \u001b[0mx\u001b[0m\u001b[0;34m,\u001b[0m \u001b[0my\u001b[0m\u001b[0;34m,\u001b[0m \u001b[0;34m**\u001b[0m\u001b[0meval_kwargs\u001b[0m\u001b[0;34m)\u001b[0m\u001b[0;34m\u001b[0m\u001b[0m\n\u001b[0m\u001b[1;32m   1010\u001b[0m         \u001b[0;32mexcept\u001b[0m \u001b[0mTypeError\u001b[0m\u001b[0;34m:\u001b[0m\u001b[0;34m\u001b[0m\u001b[0m\n",
      "\u001b[0;32m~/Documents/work/code/venv/p3/lib/python3.6/site-packages/pandas/core/computation/expressions.py\u001b[0m in \u001b[0;36mevaluate\u001b[0;34m(op, op_str, a, b, use_numexpr, **eval_kwargs)\u001b[0m\n\u001b[1;32m    204\u001b[0m     \u001b[0;32mif\u001b[0m \u001b[0muse_numexpr\u001b[0m\u001b[0;34m:\u001b[0m\u001b[0;34m\u001b[0m\u001b[0m\n\u001b[0;32m--> 205\u001b[0;31m         \u001b[0;32mreturn\u001b[0m \u001b[0m_evaluate\u001b[0m\u001b[0;34m(\u001b[0m\u001b[0mop\u001b[0m\u001b[0;34m,\u001b[0m \u001b[0mop_str\u001b[0m\u001b[0;34m,\u001b[0m \u001b[0ma\u001b[0m\u001b[0;34m,\u001b[0m \u001b[0mb\u001b[0m\u001b[0;34m,\u001b[0m \u001b[0;34m**\u001b[0m\u001b[0meval_kwargs\u001b[0m\u001b[0;34m)\u001b[0m\u001b[0;34m\u001b[0m\u001b[0m\n\u001b[0m\u001b[1;32m    206\u001b[0m     \u001b[0;32mreturn\u001b[0m \u001b[0m_evaluate_standard\u001b[0m\u001b[0;34m(\u001b[0m\u001b[0mop\u001b[0m\u001b[0;34m,\u001b[0m \u001b[0mop_str\u001b[0m\u001b[0;34m,\u001b[0m \u001b[0ma\u001b[0m\u001b[0;34m,\u001b[0m \u001b[0mb\u001b[0m\u001b[0;34m)\u001b[0m\u001b[0;34m\u001b[0m\u001b[0m\n",
      "\u001b[0;32m~/Documents/work/code/venv/p3/lib/python3.6/site-packages/pandas/core/computation/expressions.py\u001b[0m in \u001b[0;36m_evaluate_standard\u001b[0;34m(op, op_str, a, b, **eval_kwargs)\u001b[0m\n\u001b[1;32m     64\u001b[0m     \u001b[0;32mwith\u001b[0m \u001b[0mnp\u001b[0m\u001b[0;34m.\u001b[0m\u001b[0merrstate\u001b[0m\u001b[0;34m(\u001b[0m\u001b[0mall\u001b[0m\u001b[0;34m=\u001b[0m\u001b[0;34m'ignore'\u001b[0m\u001b[0;34m)\u001b[0m\u001b[0;34m:\u001b[0m\u001b[0;34m\u001b[0m\u001b[0m\n\u001b[0;32m---> 65\u001b[0;31m         \u001b[0;32mreturn\u001b[0m \u001b[0mop\u001b[0m\u001b[0;34m(\u001b[0m\u001b[0ma\u001b[0m\u001b[0;34m,\u001b[0m \u001b[0mb\u001b[0m\u001b[0;34m)\u001b[0m\u001b[0;34m\u001b[0m\u001b[0m\n\u001b[0m\u001b[1;32m     66\u001b[0m \u001b[0;34m\u001b[0m\u001b[0m\n",
      "\u001b[0;31mTypeError\u001b[0m: must be str, not NoneType",
      "\nDuring handling of the above exception, another exception occurred:\n",
      "\u001b[0;31mTypeError\u001b[0m                                 Traceback (most recent call last)",
      "\u001b[0;32m~/Documents/work/code/venv/p3/lib/python3.6/site-packages/pandas/core/ops.py\u001b[0m in \u001b[0;36msafe_na_op\u001b[0;34m(lvalues, rvalues)\u001b[0m\n\u001b[1;32m   1029\u001b[0m             \u001b[0;32mwith\u001b[0m \u001b[0mnp\u001b[0m\u001b[0;34m.\u001b[0m\u001b[0merrstate\u001b[0m\u001b[0;34m(\u001b[0m\u001b[0mall\u001b[0m\u001b[0;34m=\u001b[0m\u001b[0;34m'ignore'\u001b[0m\u001b[0;34m)\u001b[0m\u001b[0;34m:\u001b[0m\u001b[0;34m\u001b[0m\u001b[0m\n\u001b[0;32m-> 1030\u001b[0;31m                 \u001b[0;32mreturn\u001b[0m \u001b[0mna_op\u001b[0m\u001b[0;34m(\u001b[0m\u001b[0mlvalues\u001b[0m\u001b[0;34m,\u001b[0m \u001b[0mrvalues\u001b[0m\u001b[0;34m)\u001b[0m\u001b[0;34m\u001b[0m\u001b[0m\n\u001b[0m\u001b[1;32m   1031\u001b[0m         \u001b[0;32mexcept\u001b[0m \u001b[0mException\u001b[0m\u001b[0;34m:\u001b[0m\u001b[0;34m\u001b[0m\u001b[0m\n",
      "\u001b[0;32m~/Documents/work/code/venv/p3/lib/python3.6/site-packages/pandas/core/ops.py\u001b[0m in \u001b[0;36mna_op\u001b[0;34m(x, y)\u001b[0m\n\u001b[1;32m   1014\u001b[0m                 \u001b[0mmask\u001b[0m \u001b[0;34m=\u001b[0m \u001b[0mnotna\u001b[0m\u001b[0;34m(\u001b[0m\u001b[0mx\u001b[0m\u001b[0;34m)\u001b[0m \u001b[0;34m&\u001b[0m \u001b[0mnotna\u001b[0m\u001b[0;34m(\u001b[0m\u001b[0my\u001b[0m\u001b[0;34m)\u001b[0m\u001b[0;34m\u001b[0m\u001b[0m\n\u001b[0;32m-> 1015\u001b[0;31m                 \u001b[0mresult\u001b[0m\u001b[0;34m[\u001b[0m\u001b[0mmask\u001b[0m\u001b[0;34m]\u001b[0m \u001b[0;34m=\u001b[0m \u001b[0mop\u001b[0m\u001b[0;34m(\u001b[0m\u001b[0mx\u001b[0m\u001b[0;34m[\u001b[0m\u001b[0mmask\u001b[0m\u001b[0;34m]\u001b[0m\u001b[0;34m,\u001b[0m \u001b[0mcom\u001b[0m\u001b[0;34m.\u001b[0m\u001b[0m_values_from_object\u001b[0m\u001b[0;34m(\u001b[0m\u001b[0my\u001b[0m\u001b[0;34m[\u001b[0m\u001b[0mmask\u001b[0m\u001b[0;34m]\u001b[0m\u001b[0;34m)\u001b[0m\u001b[0;34m)\u001b[0m\u001b[0;34m\u001b[0m\u001b[0m\n\u001b[0m\u001b[1;32m   1016\u001b[0m             \u001b[0;32melse\u001b[0m\u001b[0;34m:\u001b[0m\u001b[0;34m\u001b[0m\u001b[0m\n",
      "\u001b[0;31mTypeError\u001b[0m: must be str, not list",
      "\nDuring handling of the above exception, another exception occurred:\n",
      "\u001b[0;31mTypeError\u001b[0m                                 Traceback (most recent call last)",
      "\u001b[0;32m<ipython-input-142-a2ad86bb01af>\u001b[0m in \u001b[0;36m<module>\u001b[0;34m()\u001b[0m\n\u001b[1;32m    132\u001b[0m     \u001b[0;32mreturn\u001b[0m \u001b[0mtrim_cols\u001b[0m\u001b[0;34m(\u001b[0m\u001b[0mhno\u001b[0m\u001b[0;34m)\u001b[0m\u001b[0;34m\u001b[0m\u001b[0m\n\u001b[1;32m    133\u001b[0m \u001b[0;34m\u001b[0m\u001b[0m\n\u001b[0;32m--> 134\u001b[0;31m \u001b[0mh\u001b[0m \u001b[0;34m=\u001b[0m \u001b[0mpull\u001b[0m\u001b[0;34m(\u001b[0m\u001b[0;34m)\u001b[0m\u001b[0;34m\u001b[0m\u001b[0m\n\u001b[0m\u001b[1;32m    135\u001b[0m \u001b[0mh\u001b[0m\u001b[0;34m\u001b[0m\u001b[0m\n",
      "\u001b[0;32m<ipython-input-142-a2ad86bb01af>\u001b[0m in \u001b[0;36mpull\u001b[0;34m()\u001b[0m\n\u001b[1;32m    127\u001b[0m     \u001b[0mhno\u001b[0m\u001b[0;34m[\u001b[0m\u001b[0;34m[\u001b[0m\u001b[0;34m'hno_disaster_type'\u001b[0m\u001b[0;34m,\u001b[0m \u001b[0;34m'hno_year'\u001b[0m\u001b[0;34m,\u001b[0m \u001b[0;34m'hno_presence_type'\u001b[0m\u001b[0;34m,\u001b[0m \u001b[0;34m'hno_source_type'\u001b[0m\u001b[0;34m]\u001b[0m\u001b[0;34m]\u001b[0m \u001b[0;34m=\u001b[0m                 \u001b[0mhno\u001b[0m\u001b[0;34m.\u001b[0m\u001b[0mapply\u001b[0m\u001b[0;34m(\u001b[0m\u001b[0;32mlambda\u001b[0m \u001b[0mx\u001b[0m \u001b[0;34m:\u001b[0m \u001b[0mpd\u001b[0m\u001b[0;34m.\u001b[0m\u001b[0mSeries\u001b[0m\u001b[0;34m(\u001b[0m\u001b[0mget_dims\u001b[0m\u001b[0;34m(\u001b[0m\u001b[0mx\u001b[0m\u001b[0;34m[\u001b[0m\u001b[0;34m'hno_subdimension'\u001b[0m\u001b[0;34m]\u001b[0m\u001b[0;34m)\u001b[0m\u001b[0;34m)\u001b[0m\u001b[0;34m,\u001b[0m \u001b[0maxis\u001b[0m \u001b[0;34m=\u001b[0m \u001b[0;36m1\u001b[0m\u001b[0;34m)\u001b[0m\u001b[0;34m\u001b[0m\u001b[0m\n\u001b[1;32m    128\u001b[0m     \u001b[0mhno\u001b[0m\u001b[0;34m[\u001b[0m\u001b[0;34m'hno_ass_type'\u001b[0m\u001b[0;34m]\u001b[0m \u001b[0;34m=\u001b[0m \u001b[0mhno\u001b[0m\u001b[0;34m.\u001b[0m\u001b[0mapply\u001b[0m\u001b[0;34m(\u001b[0m\u001b[0;32mlambda\u001b[0m \u001b[0mx\u001b[0m \u001b[0;34m:\u001b[0m \u001b[0mget_ass_type\u001b[0m\u001b[0;34m(\u001b[0m\u001b[0mx\u001b[0m\u001b[0;34m[\u001b[0m\u001b[0;34m'hno_subdimension.2'\u001b[0m\u001b[0;34m]\u001b[0m\u001b[0;34m)\u001b[0m\u001b[0;34m,\u001b[0m \u001b[0maxis\u001b[0m \u001b[0;34m=\u001b[0m \u001b[0;36m1\u001b[0m\u001b[0;34m)\u001b[0m\u001b[0;34m\u001b[0m\u001b[0m\n\u001b[0;32m--> 129\u001b[0;31m     \u001b[0mhno\u001b[0m\u001b[0;34m[\u001b[0m\u001b[0;34m'hno_uid'\u001b[0m\u001b[0;34m]\u001b[0m \u001b[0;34m=\u001b[0m \u001b[0mhno\u001b[0m\u001b[0;34m[\u001b[0m\u001b[0;34m'hno_iso3'\u001b[0m\u001b[0;34m]\u001b[0m \u001b[0;34m+\u001b[0m \u001b[0mhno\u001b[0m\u001b[0;34m[\u001b[0m\u001b[0;34m'hno_year'\u001b[0m\u001b[0;34m]\u001b[0m\u001b[0;34m\u001b[0m\u001b[0m\n\u001b[0m\u001b[1;32m    130\u001b[0m \u001b[0;34m\u001b[0m\u001b[0m\n\u001b[1;32m    131\u001b[0m     \u001b[0mprint\u001b[0m\u001b[0;34m(\u001b[0m\u001b[0mhno\u001b[0m\u001b[0;34m.\u001b[0m\u001b[0mcolumns\u001b[0m\u001b[0;34m)\u001b[0m\u001b[0;34m\u001b[0m\u001b[0m\n",
      "\u001b[0;32m~/Documents/work/code/venv/p3/lib/python3.6/site-packages/pandas/core/ops.py\u001b[0m in \u001b[0;36mwrapper\u001b[0;34m(left, right)\u001b[0m\n\u001b[1;32m   1064\u001b[0m             \u001b[0mrvalues\u001b[0m \u001b[0;34m=\u001b[0m \u001b[0mrvalues\u001b[0m\u001b[0;34m.\u001b[0m\u001b[0mvalues\u001b[0m\u001b[0;34m\u001b[0m\u001b[0m\n\u001b[1;32m   1065\u001b[0m \u001b[0;34m\u001b[0m\u001b[0m\n\u001b[0;32m-> 1066\u001b[0;31m         \u001b[0mresult\u001b[0m \u001b[0;34m=\u001b[0m \u001b[0msafe_na_op\u001b[0m\u001b[0;34m(\u001b[0m\u001b[0mlvalues\u001b[0m\u001b[0;34m,\u001b[0m \u001b[0mrvalues\u001b[0m\u001b[0;34m)\u001b[0m\u001b[0;34m\u001b[0m\u001b[0m\n\u001b[0m\u001b[1;32m   1067\u001b[0m         return construct_result(left, result,\n\u001b[1;32m   1068\u001b[0m                                 index=left.index, name=res_name, dtype=None)\n",
      "\u001b[0;32m~/Documents/work/code/venv/p3/lib/python3.6/site-packages/pandas/core/ops.py\u001b[0m in \u001b[0;36msafe_na_op\u001b[0;34m(lvalues, rvalues)\u001b[0m\n\u001b[1;32m   1032\u001b[0m             \u001b[0;32mif\u001b[0m \u001b[0mis_object_dtype\u001b[0m\u001b[0;34m(\u001b[0m\u001b[0mlvalues\u001b[0m\u001b[0;34m)\u001b[0m\u001b[0;34m:\u001b[0m\u001b[0;34m\u001b[0m\u001b[0m\n\u001b[1;32m   1033\u001b[0m                 return libalgos.arrmap_object(lvalues,\n\u001b[0;32m-> 1034\u001b[0;31m                                               lambda x: op(x, rvalues))\n\u001b[0m\u001b[1;32m   1035\u001b[0m             \u001b[0;32mraise\u001b[0m\u001b[0;34m\u001b[0m\u001b[0m\n\u001b[1;32m   1036\u001b[0m \u001b[0;34m\u001b[0m\u001b[0m\n",
      "\u001b[0;32mpandas/_libs/algos_common_helper.pxi\u001b[0m in \u001b[0;36mpandas._libs.algos.arrmap_object\u001b[0;34m()\u001b[0m\n",
      "\u001b[0;32m~/Documents/work/code/venv/p3/lib/python3.6/site-packages/pandas/core/ops.py\u001b[0m in \u001b[0;36m<lambda>\u001b[0;34m(x)\u001b[0m\n\u001b[1;32m   1032\u001b[0m             \u001b[0;32mif\u001b[0m \u001b[0mis_object_dtype\u001b[0m\u001b[0;34m(\u001b[0m\u001b[0mlvalues\u001b[0m\u001b[0;34m)\u001b[0m\u001b[0;34m:\u001b[0m\u001b[0;34m\u001b[0m\u001b[0m\n\u001b[1;32m   1033\u001b[0m                 return libalgos.arrmap_object(lvalues,\n\u001b[0;32m-> 1034\u001b[0;31m                                               lambda x: op(x, rvalues))\n\u001b[0m\u001b[1;32m   1035\u001b[0m             \u001b[0;32mraise\u001b[0m\u001b[0;34m\u001b[0m\u001b[0m\n\u001b[1;32m   1036\u001b[0m \u001b[0;34m\u001b[0m\u001b[0m\n",
      "\u001b[0;31mTypeError\u001b[0m: must be str, not NoneType"
     ]
    }
   ],
   "source": [
    "def get_cnt(cnts):\n",
    "    \"\"\"extract ISO from country field, replace unknown ISOs, make sure no duplicating bad names\"\"\"\n",
    "    \n",
    "    repl = {'2014 Revised Strategic Response Plan Sudan': 'Sudan',\n",
    "     '2016 Humanitarian Response Plan': 'Iraq',\n",
    "     '2017 Humanitarian Needs Overview Congo': 'Congo',\n",
    "     'Emergency Humanitarian Response Plan REVISION 2008': 'Kenya',\n",
    "     'Philippine: Typhoon Haiyan (Yolanda) Strategic Response Plan 2014': 'Philippines',\n",
    "     'Strategic Response Plan 2014 Occupied Palestian Territory': 'Palestine',\n",
    "     'Sudanese Red Crescent Society Emergency appeal 2014': 'Sudan'}\n",
    "    \n",
    "    cnts = [repl[v] if v in repl else v for v in cnts]\n",
    "    \n",
    "    assert(len([v for v in cnts if v in repl]) == len(set([v for v in cnts if v in repl])))\n",
    "    assert('not found' not in cnts)\n",
    "    \n",
    "    return coco.convert(names = cnts, to = 'ISO3')\n",
    "\n",
    "def get_dims(dim):\n",
    "    \"\"\"get dims, as the output is currently jumbled.\n",
    "        dims: up to a comma seperated triplet, same with subdim\n",
    "    \"\"\"\n",
    "    types = ['Earthquake',\n",
    "                'Floods',\n",
    "                'Tropical Storm/Typhoon/Hurricane',\n",
    "                'Conflict',\n",
    "                'Other']\n",
    "\n",
    "    presence = ['Activated',\n",
    "                'Not Activated',\n",
    "                'Informal Sectoral Working Group']\n",
    "\n",
    "    decomp = OrderedDict({\n",
    "        'dis_type' : [],\n",
    "        'year' : [],\n",
    "        'pres_type' : [],\n",
    "        'src_type' : []\n",
    "    })\n",
    "    \n",
    "    if type(dim) != float:\n",
    "        vals = [v.strip() for v in reversed(dim.split(','))]        \n",
    "        \n",
    "        for v in vals:\n",
    "            if v in types:\n",
    "                decomp['dis_type'].append(v)\n",
    "            elif v in presence:\n",
    "                decomp['pres_type'].append(v)\n",
    "            elif re.match('(.*[0-9])', v):\n",
    "                decomp['year'].append(re.match('(.*[0-9])', v).groups()[0])\n",
    "            else:\n",
    "                decomp['src_type'].append(v)\n",
    "    \n",
    "    for k,v in decomp.items():\n",
    "        if len(v) == 0:\n",
    "            decomp[k] = None\n",
    "        elif len(v) == 1:\n",
    "            decomp[k] = v[0]\n",
    "    \n",
    "    return [v for v in decomp.values()]\n",
    "\n",
    "def get_ass_type(x):\n",
    "    assert(str(x).count(',') <= 1)\n",
    "    return x\n",
    "\n",
    "def trim_cols(hno):\n",
    "    return pd.DataFrame(hno[[\n",
    "                'hno_date_of_lead_publication',\n",
    "                'hno_imported_by',\n",
    "                'hno_date_imported',\n",
    "                'hno_lead_title',\n",
    "                'hno_source',\n",
    "                'hno_assignee',\n",
    "                'hno_dimension',\n",
    "                'hno_subdimension',\n",
    "                'hno_number_of_people_affected_shelter',\n",
    "                'hno_number_of_people_affected_nfi',\n",
    "                'hno_number_of_people_affected_total_(shelter_+_nfi)',\n",
    "                'hno_number_of_people_affected_total_(all_sectors)',\n",
    "                'hno_number_of_people_in_need_shelter',\n",
    "                'hno_number_of_people_in_need_nfi',\n",
    "                'hno_number_of_people_in_need_total_(shelter_+_nfi)',\n",
    "                'hno_number_of_people_in_need_total_(all_sectors)',\n",
    "                'hno_number_of_people_in_acute_need_shelter',\n",
    "                'hno_number_of_people_in_acute_need_nfi',\n",
    "                'hno_number_of_people_in_acute_need_total_(shelter_+_nfi)',\n",
    "                'hno_number_of_people_in_acute_need_total_(all_sectors)',\n",
    "                'hno_number_of_people_targeted_with_assistance_shelter',\n",
    "                'hno_number_of_people_targeted_with_assistance_nfi',\n",
    "                'hno_number_of_people_targeted_with_assistance_total_(shelter_+_nfi)',\n",
    "                'hno_number_of_people_targeted_with_assistance_total_(all_sectors)',\n",
    "                'hno_number_of_people_reached_with_assistance_shelter',\n",
    "                'hno_number_of_people_reached_with_assistance_nfi',\n",
    "                'hno_number_of_people_reached_with_assistance_total_(shelter_+_nfi)',\n",
    "                'hno_number_of_people_reached_with_assistance_total_(all_sectors)',\n",
    "                'hno_number_of_people_covered_with_assistance_shelter',\n",
    "                'hno_number_of_people_covered_with_assistance_nfi',\n",
    "                'hno_number_of_people_covered_with_assistance_total_(shelter_+_nfi)',\n",
    "                'hno_number_of_people_covered_with_assistance_total_(all_sectors)',\n",
    "                'hno_funds_requested_shelter',\n",
    "                'hno_funds_requested_total',\n",
    "                'hno_funds_recieved_shelter',\n",
    "                'hno_funds_recieved_total',\n",
    "                'hno_count_count',\n",
    "                'hno_idps_count',\n",
    "                'hno_refugees_count',\n",
    "                'hno_count_international_ngo',\n",
    "                'hno_count_national_ngo',\n",
    "                'hno_count_national_government',\n",
    "                'hno_count_total',\n",
    "                'hno_iso3',\n",
    "                'hno_disaster_type',\n",
    "                'hno_year',\n",
    "                'hno_presence_type',\n",
    "                'hno_source_type',\n",
    "                'hno_ass_type',\n",
    "                'hno_uid']])\n",
    "\n",
    "\n",
    "def pull():\n",
    "    LOC = '/Users/ewanog/Google Drive/SoHSS/Report/Docs/Datasets/hno_hrp_deep_export.xlsx'\n",
    "    hno = pd.read_excel(LOC, sheet_name='Grouped Entries')\n",
    "    hno.columns = ['hno_' + v.lower().strip().replace(' - ', '_')\n",
    "                   .replace(' ', '_').replace('-', '') for v in hno.columns.values]\n",
    "    \n",
    "    #get dims and colz\n",
    "    hno['hno_iso3'] = get_cnt(hno.hno_lead_title)\n",
    "    hno[['hno_disaster_type', 'hno_year', 'hno_presence_type', 'hno_source_type']] = \\\n",
    "                hno.apply(lambda x : pd.Series(get_dims(x['hno_subdimension'])), axis = 1)\n",
    "    hno['hno_ass_type'] = hno.apply(lambda x : get_ass_type(x['hno_subdimension.2']), axis = 1)\n",
    "    \n",
    "    #drop vals without a year, as they're duplicates\n",
    "    hno = hno[~hno['hno_year'].isnull()]\n",
    "\n",
    "    hno['hno_uid'] = hno['hno_iso3'] + hno['hno_year']\n",
    "    \n",
    "    print(hno.columns)\n",
    "    return trim_cols(hno)\n",
    "    \n",
    "h = pull()\n",
    "h\n"
   ]
  },
  {
   "cell_type": "code",
   "execution_count": 143,
   "metadata": {
    "collapsed": true
   },
   "outputs": [],
   "source": [
    "LOC = '/Users/ewanog/Google Drive/SoHSS/Report/Docs/Datasets/hno_hrp_deep_export.xlsx'\n",
    "hno = pd.read_excel(LOC, sheet_name='Grouped Entries')\n",
    "hno.columns = ['hno_' + v.lower().strip().replace(' - ', '_')\n",
    "               .replace(' ', '_').replace('-', '') for v in hno.columns.values]\n",
    "\n",
    "#get dims and colz\n",
    "hno['hno_iso3'] = get_cnt(hno.hno_lead_title)\n",
    "hno[['hno_disaster_type', 'hno_year', 'hno_presence_type', 'hno_source_type']] = \\\n",
    "            hno.apply(lambda x : pd.Series(get_dims(x['hno_subdimension'])), axis = 1)\n",
    "hno['hno_ass_type'] = hno.apply(lambda x : get_ass_type(x['hno_subdimension.2']), axis = 1)\n",
    "# hno['hno_uid'] = hno['hno_iso3'] + hno['hno_year']"
   ]
  },
  {
   "cell_type": "code",
   "execution_count": 146,
   "metadata": {},
   "outputs": [
    {
     "data": {
      "text/plain": [
       "Index(['hno_date_of_lead_publication', 'hno_imported_by', 'hno_date_imported',\n",
       "       'hno_lead_title', 'hno_source', 'hno_assignee', 'hno_excerpt',\n",
       "       'hno_dimension', 'hno_subdimension', 'hno_dimension.1',\n",
       "       'hno_subdimension.1', 'hno_number_of_people_affected_shelter',\n",
       "       'hno_number_of_people_affected_nfi',\n",
       "       'hno_number_of_people_affected_total_(shelter_+_nfi)',\n",
       "       'hno_number_of_people_affected_total_(all_sectors)',\n",
       "       'hno_number_of_people_affected_matches',\n",
       "       'hno_number_of_people_in_need_shelter',\n",
       "       'hno_number_of_people_in_need_nfi',\n",
       "       'hno_number_of_people_in_need_total_(shelter_+_nfi)',\n",
       "       'hno_number_of_people_in_need_total_(all_sectors)',\n",
       "       'hno_number_of_people_in_need_matches',\n",
       "       'hno_number_of_people_in_acute_need_shelter',\n",
       "       'hno_number_of_people_in_acute_need_nfi',\n",
       "       'hno_number_of_people_in_acute_need_total_(shelter_+_nfi)',\n",
       "       'hno_number_of_people_in_acute_need_total_(all_sectors)',\n",
       "       'hno_number_of_people_in_acute_need_matches',\n",
       "       'hno_number_of_people_targeted_with_assistance_shelter',\n",
       "       'hno_number_of_people_targeted_with_assistance_nfi',\n",
       "       'hno_number_of_people_targeted_with_assistance_total_(shelter_+_nfi)',\n",
       "       'hno_number_of_people_targeted_with_assistance_total_(all_sectors)',\n",
       "       'hno_number_of_people_targeted_with_assistance_matches',\n",
       "       'hno_number_of_people_reached_with_assistance_shelter',\n",
       "       'hno_number_of_people_reached_with_assistance_nfi',\n",
       "       'hno_number_of_people_reached_with_assistance_total_(shelter_+_nfi)',\n",
       "       'hno_number_of_people_reached_with_assistance_total_(all_sectors)',\n",
       "       'hno_number_of_people_reached_with_assistance_matches',\n",
       "       'hno_number_of_people_covered_with_assistance_shelter',\n",
       "       'hno_number_of_people_covered_with_assistance_nfi',\n",
       "       'hno_number_of_people_covered_with_assistance_total_(shelter_+_nfi)',\n",
       "       'hno_number_of_people_covered_with_assistance_total_(all_sectors)',\n",
       "       'hno_number_of_people_covered_with_assistance_matches', 'hno_country',\n",
       "       'hno_funds_requested_shelter', 'hno_funds_requested_total',\n",
       "       'hno_funds_requested_matches', 'hno_funds_recieved_shelter',\n",
       "       'hno_funds_recieved_total', 'hno_funds_recieved_matches',\n",
       "       'hno_count_count', 'hno_count_matches', 'hno_idps_count',\n",
       "       'hno_idps_matches', 'hno_refugees_count', 'hno_refugees_matches',\n",
       "       'hno_dimension.2', 'hno_subdimension.2', 'hno_count_international_ngo',\n",
       "       'hno_count_national_ngo', 'hno_count_national_government',\n",
       "       'hno_count_total', 'hno_count_matches.1', 'hno_iso3',\n",
       "       'hno_disaster_type', 'hno_year', 'hno_presence_type', 'hno_source_type',\n",
       "       'hno_ass_type'],\n",
       "      dtype='object')"
      ]
     },
     "execution_count": 146,
     "metadata": {},
     "output_type": "execute_result"
    }
   ],
   "source": [
    "hno.columns"
   ]
  },
  {
   "cell_type": "code",
   "execution_count": 154,
   "metadata": {},
   "outputs": [
    {
     "data": {
      "text/plain": [
       "134"
      ]
     },
     "execution_count": 154,
     "metadata": {},
     "output_type": "execute_result"
    }
   ],
   "source": [
    "len(hno[['hno_iso3', 'hno_year', 'hno_lead_title', 'hno_subdimension']]) #167\n",
    "\n",
    "\n",
    "\n",
    "len(hno)"
   ]
  }
 ],
 "metadata": {
  "kernelspec": {
   "display_name": "Python 3",
   "language": "python",
   "name": "python3"
  },
  "language_info": {
   "codemirror_mode": {
    "name": "ipython",
    "version": 3
   },
   "file_extension": ".py",
   "mimetype": "text/x-python",
   "name": "python",
   "nbconvert_exporter": "python",
   "pygments_lexer": "ipython3",
   "version": "3.6.1"
  }
 },
 "nbformat": 4,
 "nbformat_minor": 2
}

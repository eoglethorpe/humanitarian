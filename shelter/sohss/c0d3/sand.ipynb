{
 "cells": [
  {
   "cell_type": "code",
   "execution_count": 23,
   "metadata": {
    "collapsed": true
   },
   "outputs": [],
   "source": [
    "import pandas as pd"
   ]
  },
  {
   "cell_type": "code",
   "execution_count": 13,
   "metadata": {},
   "outputs": [
    {
     "data": {
      "text/html": [
       "<div>\n",
       "<style scoped>\n",
       "    .dataframe tbody tr th:only-of-type {\n",
       "        vertical-align: middle;\n",
       "    }\n",
       "\n",
       "    .dataframe tbody tr th {\n",
       "        vertical-align: top;\n",
       "    }\n",
       "\n",
       "    .dataframe thead th {\n",
       "        text-align: right;\n",
       "    }\n",
       "</style>\n",
       "<table border=\"1\" class=\"dataframe\">\n",
       "  <thead>\n",
       "    <tr style=\"text-align: right;\">\n",
       "      <th></th>\n",
       "      <th>col1</th>\n",
       "      <th>col2</th>\n",
       "    </tr>\n",
       "  </thead>\n",
       "  <tbody>\n",
       "    <tr>\n",
       "      <th>0</th>\n",
       "      <td>1</td>\n",
       "      <td>2</td>\n",
       "    </tr>\n",
       "    <tr>\n",
       "      <th>1</th>\n",
       "      <td>3</td>\n",
       "      <td>None</td>\n",
       "    </tr>\n",
       "    <tr>\n",
       "      <th>2</th>\n",
       "      <td>None</td>\n",
       "      <td>3</td>\n",
       "    </tr>\n",
       "  </tbody>\n",
       "</table>\n",
       "</div>"
      ],
      "text/plain": [
       "   col1  col2\n",
       "0     1     2\n",
       "1     3  None\n",
       "2  None     3"
      ]
     },
     "execution_count": 13,
     "metadata": {},
     "output_type": "execute_result"
    }
   ],
   "source": [
    "df"
   ]
  },
  {
   "cell_type": "code",
   "execution_count": 56,
   "metadata": {},
   "outputs": [
    {
     "ename": "ValueError",
     "evalue": "invalid literal for int() with base 10: 'adf'",
     "output_type": "error",
     "traceback": [
      "\u001b[0;31m---------------------------------------------------------------------------\u001b[0m",
      "\u001b[0;31mValueError\u001b[0m                                Traceback (most recent call last)",
      "\u001b[0;32m<ipython-input-56-baa502363545>\u001b[0m in \u001b[0;36m<module>\u001b[0;34m()\u001b[0m\n\u001b[0;32m----> 1\u001b[0;31m \u001b[0mint\u001b[0m\u001b[0;34m(\u001b[0m\u001b[0;34m'adf'\u001b[0m\u001b[0;34m)\u001b[0m\u001b[0;34m\u001b[0m\u001b[0m\n\u001b[0m",
      "\u001b[0;31mValueError\u001b[0m: invalid literal for int() with base 10: 'adf'"
     ]
    }
   ],
   "source": [
    "int('adf')"
   ]
  },
  {
   "cell_type": "code",
   "execution_count": 39,
   "metadata": {},
   "outputs": [
    {
     "data": {
      "text/plain": [
       "0    2.0\n",
       "1    NaN\n",
       "2    3.0\n",
       "Name: col1, dtype: float64"
      ]
     },
     "execution_count": 39,
     "metadata": {},
     "output_type": "execute_result"
    }
   ],
   "source": [
    "df['3'] = df['col1'] = df['col2']\n",
    "\n",
    "df['col1'].astype(float)"
   ]
  },
  {
   "cell_type": "code",
   "execution_count": 34,
   "metadata": {},
   "outputs": [],
   "source": [
    "d = {'col1': ['1','3', None], 'col2': ['2',None, '3']}\n",
    "df = pd.DataFrame(data=d)\n"
   ]
  },
  {
   "cell_type": "code",
   "execution_count": 9,
   "metadata": {},
   "outputs": [
    {
     "data": {
      "text/plain": [
       "['',\n",
       " \"d = {'col1': ['1','3', None], 'col2': ['2',None, '3']}\\ndf = pd.DataFrame(data=d)\\n\\ndf\\n\\ndef a(r):\\n    print(r)\\n    print('**')\\n    return -99\\n    \\ndf.col1 = df.col1.apply(lambda x : a(x), axis = 1)\\n\\nd['new']\",\n",
       " \"d = {'col1': ['1','3', None], 'col2': ['2',None, '3']}\\ndf = pd.DataFrame(data=d)\\n\\ndf\",\n",
       " 'import pandas as pd',\n",
       " \"d = {'col1': ['1','3', None], 'col2': ['2',None, '3']}\\ndf = pd.DataFrame(data=d)\\n\\ndf\",\n",
       " \"d = {'col1': ['1','3', None], 'col2': ['2',None, '3']}\\ndf = pd.DataFrame(data=d)\\n\\ndf\",\n",
       " \"d = {'col1': ['1','3', None], 'col2': ['2',None, '3']}\\ndf = pd.DataFrame(data=d)\\n\\ndf = pd.DataFrame(df['col1'])\",\n",
       " \"d = {'col1': ['1','3', None], 'col2': ['2',None, '3']}\\ndf = pd.DataFrame(data=d)\\n\\ndf = pd.DataFrame(df['col1'])\\n\\ndf\",\n",
       " 'globals()',\n",
       " \"globals()['In']\"]"
      ]
     },
     "execution_count": 9,
     "metadata": {},
     "output_type": "execute_result"
    }
   ],
   "source": [
    "globals()['In']"
   ]
  },
  {
   "cell_type": "code",
   "execution_count": 25,
   "metadata": {},
   "outputs": [
    {
     "data": {
      "text/html": [
       "<div>\n",
       "<style scoped>\n",
       "    .dataframe tbody tr th:only-of-type {\n",
       "        vertical-align: middle;\n",
       "    }\n",
       "\n",
       "    .dataframe tbody tr th {\n",
       "        vertical-align: top;\n",
       "    }\n",
       "\n",
       "    .dataframe thead th {\n",
       "        text-align: right;\n",
       "    }\n",
       "</style>\n",
       "<table border=\"1\" class=\"dataframe\">\n",
       "  <thead>\n",
       "    <tr style=\"text-align: right;\">\n",
       "      <th></th>\n",
       "      <th>col1</th>\n",
       "      <th>col2</th>\n",
       "    </tr>\n",
       "  </thead>\n",
       "  <tbody>\n",
       "    <tr>\n",
       "      <th>0</th>\n",
       "      <td>-99</td>\n",
       "      <td>2</td>\n",
       "    </tr>\n",
       "    <tr>\n",
       "      <th>1</th>\n",
       "      <td>-99</td>\n",
       "      <td>None</td>\n",
       "    </tr>\n",
       "    <tr>\n",
       "      <th>2</th>\n",
       "      <td>-99</td>\n",
       "      <td>3</td>\n",
       "    </tr>\n",
       "  </tbody>\n",
       "</table>\n",
       "</div>"
      ],
      "text/plain": [
       "   col1  col2\n",
       "0   -99     2\n",
       "1   -99  None\n",
       "2   -99     3"
      ]
     },
     "execution_count": 25,
     "metadata": {},
     "output_type": "execute_result"
    }
   ],
   "source": [
    "df"
   ]
  },
  {
   "cell_type": "code",
   "execution_count": 50,
   "metadata": {},
   "outputs": [
    {
     "name": "stdout",
     "output_type": "stream",
     "text": [
      "1\n"
     ]
    }
   ],
   "source": [
    "class c(object):\n",
    "    def __init__(self):\n",
    "        self.a = 1\n",
    "        \n",
    "    def r(self):\n",
    "        print(1)\n",
    "        \n",
    "    def main(self):\n",
    "        self.r()\n",
    "\n",
    "s = c()\n",
    "s.main()"
   ]
  },
  {
   "cell_type": "code",
   "execution_count": 62,
   "metadata": {},
   "outputs": [
    {
     "data": {
      "text/html": [
       "<div>\n",
       "<style scoped>\n",
       "    .dataframe tbody tr th:only-of-type {\n",
       "        vertical-align: middle;\n",
       "    }\n",
       "\n",
       "    .dataframe tbody tr th {\n",
       "        vertical-align: top;\n",
       "    }\n",
       "\n",
       "    .dataframe thead th {\n",
       "        text-align: right;\n",
       "    }\n",
       "</style>\n",
       "<table border=\"1\" class=\"dataframe\">\n",
       "  <thead>\n",
       "    <tr style=\"text-align: right;\">\n",
       "      <th></th>\n",
       "      <th>a</th>\n",
       "      <th>b</th>\n",
       "      <th>c</th>\n",
       "    </tr>\n",
       "  </thead>\n",
       "  <tbody>\n",
       "    <tr>\n",
       "      <th>0</th>\n",
       "      <td>1</td>\n",
       "      <td>4</td>\n",
       "      <td>16.0</td>\n",
       "    </tr>\n",
       "    <tr>\n",
       "      <th>1</th>\n",
       "      <td>2</td>\n",
       "      <td>5</td>\n",
       "      <td>NaN</td>\n",
       "    </tr>\n",
       "    <tr>\n",
       "      <th>2</th>\n",
       "      <td>3</td>\n",
       "      <td>6</td>\n",
       "      <td>15.0</td>\n",
       "    </tr>\n",
       "  </tbody>\n",
       "</table>\n",
       "</div>"
      ],
      "text/plain": [
       "   a  b     c\n",
       "0  1  4  16.0\n",
       "1  2  5   NaN\n",
       "2  3  6  15.0"
      ]
     },
     "execution_count": 62,
     "metadata": {},
     "output_type": "execute_result"
    }
   ],
   "source": [
    "df = pd.DataFrame(data = {'a': [1, 2, 3], 'b': [4, 5, 6]})\n",
    "ot = pd.DataFrame(data = {'a': [6, 3, 1], 'c': [14, 15, 16]})\n",
    "\n",
    "df.merge(ot, how = 'left', left_on='a', right_on='a')"
   ]
  },
  {
   "cell_type": "code",
   "execution_count": 121,
   "metadata": {
    "collapsed": true
   },
   "outputs": [],
   "source": [
    "'a'.\n",
    "\n",
    "v = 'text'\n",
    "\n",
    "v."
   ]
  },
  {
   "cell_type": "code",
   "execution_count": 120,
   "metadata": {},
   "outputs": [
    {
     "ename": "SyntaxError",
     "evalue": "invalid syntax (<ipython-input-120-2b5f64ea7908>, line 1)",
     "output_type": "error",
     "traceback": [
      "\u001b[0;36m  File \u001b[0;32m\"<ipython-input-120-2b5f64ea7908>\"\u001b[0;36m, line \u001b[0;32m1\u001b[0m\n\u001b[0;31m    {1 : 2 if True 1 if False}\u001b[0m\n\u001b[0m                   ^\u001b[0m\n\u001b[0;31mSyntaxError\u001b[0m\u001b[0;31m:\u001b[0m invalid syntax\n"
     ]
    }
   ],
   "source": [
    "{1 : 2 if True 1 if False}"
   ]
  },
  {
   "cell_type": "code",
   "execution_count": 111,
   "metadata": {},
   "outputs": [
    {
     "data": {
      "text/plain": [
       "['Since its emergence in April 2009, pandemic influenza A(H1N1) 2009 virus affected all parts of the world, causing the first influenza pandemic since 1968. Following the observation that 1 or 2 epidemic periods had occurred in most countries and in most WHO Regions, WHO declared on 10 Aug 2010 that the world was moving into the post-pandemic period. ([WHO, 18 Feb 2011](https://reliefweb.int/node/389128))',\n",
       " 'https://reliefweb.int/disaster/ep-2009-000084-mex',\n",
       " 'World',\n",
       " 'wld',\n",
       " 'https://api.reliefweb.int/v1/countries/254']"
      ]
     },
     "execution_count": 111,
     "metadata": {},
     "output_type": "execute_result"
    }
   ],
   "source": [
    "d"
   ]
  },
  {
   "cell_type": "code",
   "execution_count": 108,
   "metadata": {
    "collapsed": true
   },
   "outputs": [],
   "source": [
    "d = ['Since its emergence in April 2009, pandemic influenza A(H1N1) 2009 virus affected all parts of the world, causing the first influenza pandemic since 1968. Following the observation that 1 or 2 epidemic periods had occurred in most countries and in most WHO Regions, WHO declared on 10 Aug 2010 that the world was moving into the post-pandemic period. ([WHO, 18 Feb 2011](https://reliefweb.int/node/389128))', 'https://reliefweb.int/disaster/ep-2009-000084-mex', 'World', 'wld', 'https://api.reliefweb.int/v1/countries/254']"
   ]
  },
  {
   "cell_type": "code",
   "execution_count": 104,
   "metadata": {},
   "outputs": [
    {
     "data": {
      "text/plain": [
       "10"
      ]
     },
     "execution_count": 104,
     "metadata": {},
     "output_type": "execute_result"
    }
   ],
   "source": [
    "fin = json.loads(urllib.request.urlopen(\"https://api.reliefweb.int/v1/\" \\\n",
    "                           \"disasters?appname=vocabulary&preset=external\").read().decode())['count']\n",
    "\n",
    "fin"
   ]
  },
  {
   "cell_type": "code",
   "execution_count": 91,
   "metadata": {},
   "outputs": [
    {
     "data": {
      "text/plain": [
       "dict_keys(['href', 'time', 'links', 'totalCount', 'count', 'data'])"
      ]
     },
     "execution_count": 91,
     "metadata": {},
     "output_type": "execute_result"
    }
   ],
   "source": [
    "import urllib.request, json\n",
    "\n",
    "with urllib.request.urlopen(\"https://api.reliefweb.int/v1/disasters?appname=vocabulary&preset=external&limit=10&offset=1000\".format(i*1000)) as url:\n",
    "    j = json.loads(url.read().decode())\n",
    "    \n",
    "j.keys()"
   ]
  },
  {
   "cell_type": "code",
   "execution_count": 56,
   "metadata": {},
   "outputs": [
    {
     "data": {
      "text/plain": [
       "'AGR,CCM,PRO-CPN,CSS,ERY,EDU,TEL,FSC,PRO-GBV,HEA,PRO-HLP,LOG,PRO-MIN,MS,NUT,OTH,PRO,WSH'"
      ]
     },
     "execution_count": 56,
     "metadata": {},
     "output_type": "execute_result"
    }
   ],
   "source": [
    "import urllib.request, json\n",
    "\n",
    "from pandas.io.json import json_normalize\n",
    "\n",
    "r = json_normalize(json.loads(urllib.request.urlopen(\"https://api.hpc.tools/v1/public/global-cluster\")\n",
    "                                              .read().decode()))['data']\n",
    "\n",
    "r = [v['code'] for v in r[0]]\n",
    "r.remove('SHL')\n",
    "s = ','.join(r)\n",
    "\n",
    "s\n",
    "# https://api.hpc.tools/v1/public/fts/flow?countryISO3=SOM&year=2015&globalClusterCode=shl,tel"
   ]
  },
  {
   "cell_type": "code",
   "execution_count": 54,
   "metadata": {},
   "outputs": [
    {
     "data": {
      "text/html": [
       "<div>\n",
       "<style scoped>\n",
       "    .dataframe tbody tr th:only-of-type {\n",
       "        vertical-align: middle;\n",
       "    }\n",
       "\n",
       "    .dataframe tbody tr th {\n",
       "        vertical-align: top;\n",
       "    }\n",
       "\n",
       "    .dataframe thead th {\n",
       "        text-align: right;\n",
       "    }\n",
       "</style>\n",
       "<table border=\"1\" class=\"dataframe\">\n",
       "  <thead>\n",
       "    <tr style=\"text-align: right;\">\n",
       "      <th></th>\n",
       "      <th>data.flows</th>\n",
       "      <th>data.incoming.flowCount</th>\n",
       "      <th>data.incoming.fundingTotal</th>\n",
       "      <th>data.incoming.pledgeTotal</th>\n",
       "      <th>data.internal.flowCount</th>\n",
       "      <th>data.outgoing.flowCount</th>\n",
       "      <th>data.outgoing.fundingTotal</th>\n",
       "      <th>data.outgoing.pledgeTotal</th>\n",
       "      <th>meta.count</th>\n",
       "      <th>meta.language</th>\n",
       "      <th>status</th>\n",
       "    </tr>\n",
       "  </thead>\n",
       "  <tbody>\n",
       "    <tr>\n",
       "      <th>0</th>\n",
       "      <td>[{'id': '126486', 'versionId': 1, 'description...</td>\n",
       "      <td>52</td>\n",
       "      <td>38478845</td>\n",
       "      <td>0</td>\n",
       "      <td>0</td>\n",
       "      <td>6</td>\n",
       "      <td>2400471</td>\n",
       "      <td>0</td>\n",
       "      <td>58</td>\n",
       "      <td>en</td>\n",
       "      <td>ok</td>\n",
       "    </tr>\n",
       "  </tbody>\n",
       "</table>\n",
       "</div>"
      ],
      "text/plain": [
       "                                          data.flows  data.incoming.flowCount  \\\n",
       "0  [{'id': '126486', 'versionId': 1, 'description...                       52   \n",
       "\n",
       "   data.incoming.fundingTotal  data.incoming.pledgeTotal  \\\n",
       "0                    38478845                          0   \n",
       "\n",
       "   data.internal.flowCount  data.outgoing.flowCount  \\\n",
       "0                        0                        6   \n",
       "\n",
       "   data.outgoing.fundingTotal  data.outgoing.pledgeTotal  meta.count  \\\n",
       "0                     2400471                          0          58   \n",
       "\n",
       "  meta.language status  \n",
       "0            en     ok  "
      ]
     },
     "execution_count": 54,
     "metadata": {},
     "output_type": "execute_result"
    }
   ],
   "source": [
    "json_normalize(json.loads(urllib.request.urlopen(\"https://api.hpc.tools/v1/public/fts/flow?countryISO3=SOM&year=2015&globalClusterCode=shl,wsh\")\n",
    "                                              .read().decode()))"
   ]
  },
  {
   "cell_type": "code",
   "execution_count": 57,
   "metadata": {},
   "outputs": [
    {
     "name": "stdout",
     "output_type": "stream",
     "text": [
      "loaded 227 SC entries\n",
      "pulled countries\n",
      "num bad resps: 0\n"
     ]
    },
    {
     "name": "stderr",
     "output_type": "stream",
     "text": [
      "/Users/ewanog/Documents/work/code/venv/p3/lib/python3.6/site-packages/pandas/core/frame.py:6201: FutureWarning: Sorting because non-concatenation axis is not aligned. A future version\n",
      "of pandas will change to not sort by default.\n",
      "\n",
      "To accept the future behavior, pass 'sort=True'.\n",
      "\n",
      "To retain the current behavior and silence the warning, pass sort=False\n",
      "\n",
      "  sort=sort)\n"
     ]
    }
   ],
   "source": [
    "from fts_pull import fts\n",
    "\n",
    "\n"
   ]
  },
  {
   "cell_type": "code",
   "execution_count": 59,
   "metadata": {},
   "outputs": [
    {
     "name": "stdout",
     "output_type": "stream",
     "text": [
      "loaded 227 SC entries\n"
     ]
    },
    {
     "ename": "TypeError",
     "evalue": "'fts' object is not callable",
     "output_type": "error",
     "traceback": [
      "\u001b[0;31m---------------------------------------------------------------------------\u001b[0m",
      "\u001b[0;31mTypeError\u001b[0m                                 Traceback (most recent call last)",
      "\u001b[0;32m<ipython-input-59-ce9ea6350bc2>\u001b[0m in \u001b[0;36m<module>\u001b[0;34m()\u001b[0m\n\u001b[1;32m      1\u001b[0m \u001b[0;32mfrom\u001b[0m \u001b[0msc_pull\u001b[0m \u001b[0;32mimport\u001b[0m \u001b[0mpull\u001b[0m\u001b[0;34m\u001b[0m\u001b[0m\n\u001b[1;32m      2\u001b[0m \u001b[0;34m\u001b[0m\u001b[0m\n\u001b[0;32m----> 3\u001b[0;31m \u001b[0mfts\u001b[0m\u001b[0;34m(\u001b[0m\u001b[0msc\u001b[0m \u001b[0;34m=\u001b[0m \u001b[0mpull\u001b[0m\u001b[0;34m(\u001b[0m\u001b[0;34m)\u001b[0m\u001b[0;34m,\u001b[0m \u001b[0mtest\u001b[0m \u001b[0;34m=\u001b[0m \u001b[0;36m10\u001b[0m\u001b[0;34m,\u001b[0m \u001b[0mall_sector\u001b[0m\u001b[0;34m=\u001b[0m\u001b[0;32mTrue\u001b[0m\u001b[0;34m)\u001b[0m\u001b[0;34m\u001b[0m\u001b[0m\n\u001b[0m",
      "\u001b[0;31mTypeError\u001b[0m: 'fts' object is not callable"
     ]
    }
   ],
   "source": [
    "from sc_pull import pull\n",
    "\n",
    "fts(sc = pull(), test = 10, all_sector=True)"
   ]
  },
  {
   "cell_type": "code",
   "execution_count": 22,
   "metadata": {},
   "outputs": [
    {
     "name": "stdout",
     "output_type": "stream",
     "text": [
      "[1 2\n",
      " 312312414312312312312414312312414312312414312312414414312312414312312414312312414\n",
      " 23]\n"
     ]
    }
   ],
   "source": [
    "s = pd.Series([1,2,312312414312312312312414312312414312312414312312414414312312414312312414312312414,23])\n",
    "\n",
    "print(s.values)"
   ]
  }
 ],
 "metadata": {
  "kernelspec": {
   "display_name": "Python 3",
   "language": "python",
   "name": "python3"
  },
  "language_info": {
   "codemirror_mode": {
    "name": "ipython",
    "version": 3
   },
   "file_extension": ".py",
   "mimetype": "text/x-python",
   "name": "python",
   "nbconvert_exporter": "python",
   "pygments_lexer": "ipython3",
   "version": "3.6.1"
  }
 },
 "nbformat": 4,
 "nbformat_minor": 1
}

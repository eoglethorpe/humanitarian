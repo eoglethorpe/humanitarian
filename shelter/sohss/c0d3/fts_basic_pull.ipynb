{
 "cells": [
  {
   "cell_type": "code",
   "execution_count": 236,
   "metadata": {
    "collapsed": true
   },
   "outputs": [],
   "source": [
    "\"\"\"\n",
    "pulling data from FTS for IFRC GO.\n",
    "\n",
    ">>Number of CERF Operations and HRPs launched (by type)\n",
    ">>>count of emergencies by country by year with sum of total funding for funding reuqested vs funding recieved\n",
    "\n",
    "1) pulls all values from country listing API\n",
    "\n",
    "2) queryies https://api.hpc.tools/v1/public/fts/flow?countryISO3=XXX&groupby=year for aggreagted yearly\n",
    "values for funding \n",
    "\n",
    "3) queries\n",
    "\n",
    "***coudl have consolidated in one single call without grouping and then done the grouping manually,\n",
    "        but the grouping is a little complex\n",
    "\"\"\"\n",
    "\n",
    "import urllib.request, json\n",
    "import re\n",
    "import grequests\n",
    "from itertools import groupby\n",
    "\n",
    "import pandas as pd\n",
    "import numpy as np\n",
    "from pandas.io.json import json_normalize\n",
    "import dateparser"
   ]
  },
  {
   "cell_type": "code",
   "execution_count": 126,
   "metadata": {},
   "outputs": [],
   "source": [
    "\"\"\"utils\"\"\"\n",
    "\n",
    "def api_pull(urls):\n",
    "    \"\"\"pull down API contents, and use local history if testing\n",
    "         urls: list of URLS to pull response from\n",
    "\n",
    "        results yield the following:\n",
    "            Sum of incoming flows grouped by the specified source object type\n",
    "            Sum of incoming flows grouped by the specified destination object type\n",
    "            ***Sum of incoming and internal flows grouped by the specified destination object type of minus the sum outgoing and internal flows grouped by source objects\n",
    "            Sum of outgoing flows grouped by destination objects\n",
    "\n",
    "        we want the ***'d one (report 3)\n",
    "    \"\"\"\n",
    "    if type(urls) != list:\n",
    "        urls = [urls]\n",
    "    \n",
    "    def exception_handler(request, exception):\n",
    "        print('Bad URL for ' + str(request))\n",
    "\n",
    "    print('1st pulling for : ' + str(urls[0]))\n",
    "    \n",
    "    resps = []\n",
    "    rs = (grequests.get(ref) for ref in urls)\n",
    "    resps += grequests.map(rs, exception_handler=exception_handler, size=25)\n",
    "    \n",
    "    print('reqs mapped')\n",
    "    \n",
    "    good_resps = []\n",
    "    bad_resps = []\n",
    "    for r in resps:\n",
    "        load = json.loads(r.content)\n",
    "        load['url'] = r.url\n",
    "        if r.status_code == 200:\n",
    "            good_resps.append(load)\n",
    "        else:\n",
    "            bad_resps.append(load)\n",
    "\n",
    "    print('pulled. num bad resps: ' + str(len(bad_resps)))\n",
    "\n",
    "    return good_resps"
   ]
  },
  {
   "cell_type": "code",
   "execution_count": 230,
   "metadata": {},
   "outputs": [
    {
     "ename": "KeyError",
     "evalue": "0",
     "output_type": "error",
     "traceback": [
      "\u001b[0;31m---------------------------------------------------------------------------\u001b[0m",
      "\u001b[0;31mKeyError\u001b[0m                                  Traceback (most recent call last)",
      "\u001b[0;32m<ipython-input-230-81ad7514b54f>\u001b[0m in \u001b[0;36m<module>\u001b[0;34m()\u001b[0m\n\u001b[1;32m      1\u001b[0m \u001b[0;31m#make sure report still has same format\u001b[0m\u001b[0;34m\u001b[0m\u001b[0;34m\u001b[0m\u001b[0m\n\u001b[0;32m----> 2\u001b[0;31m \u001b[0;32massert\u001b[0m\u001b[0;34m(\u001b[0m\u001b[0mr\u001b[0m\u001b[0;34m[\u001b[0m\u001b[0;36m0\u001b[0m\u001b[0;34m]\u001b[0m\u001b[0;34m[\u001b[0m\u001b[0;34m'data'\u001b[0m\u001b[0;34m]\u001b[0m\u001b[0;34m[\u001b[0m\u001b[0;34m'report3'\u001b[0m\u001b[0;34m]\u001b[0m\u001b[0;34m[\u001b[0m\u001b[0;34m'fundingTotals'\u001b[0m\u001b[0;34m]\u001b[0m\u001b[0;34m[\u001b[0m\u001b[0;34m'objects'\u001b[0m\u001b[0;34m]\u001b[0m\u001b[0;34m[\u001b[0m\u001b[0;36m0\u001b[0m\u001b[0;34m]\u001b[0m\u001b[0;34m[\u001b[0m\u001b[0;34m'direction'\u001b[0m\u001b[0;34m]\u001b[0m \u001b[0;34m==\u001b[0m \u001b[0;34m'destination'\u001b[0m\u001b[0;34m)\u001b[0m\u001b[0;34m\u001b[0m\u001b[0m\n\u001b[0m\u001b[1;32m      3\u001b[0m \u001b[0;34m\u001b[0m\u001b[0m\n\u001b[1;32m      4\u001b[0m \u001b[0md\u001b[0m \u001b[0;34m=\u001b[0m \u001b[0;34m{\u001b[0m\u001b[0;34m}\u001b[0m\u001b[0;34m\u001b[0m\u001b[0m\n\u001b[1;32m      5\u001b[0m \u001b[0md\u001b[0m\u001b[0;34m[\u001b[0m\u001b[0;34m'cod'\u001b[0m\u001b[0;34m]\u001b[0m \u001b[0;34m=\u001b[0m \u001b[0;34m{\u001b[0m\u001b[0;34m}\u001b[0m\u001b[0;34m\u001b[0m\u001b[0m\n",
      "\u001b[0;31mKeyError\u001b[0m: 0"
     ]
    }
   ],
   "source": [
    "#make sure report still has same format\n",
    "assert(r[0]['data']['report3']['fundingTotals']['objects'][0]['direction'] == 'destination')\n",
    "\n",
    "d = {}\n",
    "d['cod'] = {}\n",
    "\n",
    "for fund_area in ['fundingTotals', 'pledgeTotals']:\n",
    "    for v in r[0]['data']['report3'][fund_area]['objects'][0]['objectsBreakdown']:\n",
    "        if v['name'] not in d['cod']:\n",
    "            d['cod'][v['name']] = {}\n",
    "            \n",
    "        d['cod'][v['name']][fund_area] = v['totalFunding']\n",
    "\n",
    "d\n",
    "#     'objects': [{\n",
    "#         'direction': 'destination',\n",
    "#         'objectsBreakdown'"
   ]
  },
  {
   "cell_type": "code",
   "execution_count": 229,
   "metadata": {},
   "outputs": [
    {
     "name": "stdout",
     "output_type": "stream",
     "text": [
      "1st pulling for : https://api.hpc.tools/v1/public/emergency/country/AFG\n",
      "reqs mapped\n",
      "pulled. num bad resps: 0\n"
     ]
    }
   ],
   "source": [
    "res = api_pull('https://api.hpc.tools/v1/public/emergency/country/AFG')"
   ]
  },
  {
   "cell_type": "code",
   "execution_count": 237,
   "metadata": {},
   "outputs": [
    {
     "data": {
      "text/plain": [
       "'2008-01-17T00:00:00.000Z'"
      ]
     },
     "execution_count": 237,
     "metadata": {},
     "output_type": "execute_result"
    }
   ],
   "source": [
    "json_normalize(res[0]['data']).date[0]"
   ]
  },
  {
   "cell_type": "code",
   "execution_count": 283,
   "metadata": {},
   "outputs": [
    {
     "name": "stdout",
     "output_type": "stream",
     "text": [
      "(2000, 1)\n",
      "(2001, 1)\n",
      "(2002, 2)\n",
      "(2004, 2)\n",
      "(2005, 3)\n",
      "(2006, 2)\n",
      "(2008, 1)\n",
      "(2010, 2)\n"
     ]
    }
   ],
   "source": []
  },
  {
   "cell_type": "code",
   "execution_count": 317,
   "metadata": {},
   "outputs": [
    {
     "data": {
      "text/plain": [
       "{'AFG': {'2000': {'fundingTotals': 72973025},\n",
       "  '2001': {'fundingTotals': -78074138},\n",
       "  '2002': {'fundingTotals': 1628305282},\n",
       "  '2003': {'fundingTotals': 457060626},\n",
       "  '2004': {'fundingTotals': 162366273},\n",
       "  '2005': {'fundingTotals': 80966927},\n",
       "  '2006': {'fundingTotals': 173006599},\n",
       "  '2007': {'fundingTotals': 173907007},\n",
       "  '2008': {'fundingTotals': 374390197},\n",
       "  '2009': {'fundingTotals': 565310197},\n",
       "  '2010': {'fundingTotals': 623187008},\n",
       "  '2011': {'fundingTotals': 891446788, 'pledgeTotals': 584032},\n",
       "  '2012': {'fundingTotals': 478039532},\n",
       "  '2013': {'fundingTotals': 519665344},\n",
       "  '2014': {'fundingTotals': 495039555},\n",
       "  '2015': {'fundingTotals': 421566098},\n",
       "  '2016': {'fundingTotals': 522595105},\n",
       "  '2017': {'fundingTotals': 366059185},\n",
       "  '2018': {'fundingTotals': 217095054},\n",
       "  '2019': {'fundingTotals': 1813401},\n",
       "  '2020': {'fundingTotals': 369118},\n",
       "  '2021': {'fundingTotals': 150150}},\n",
       " 'ALB': {'2000': {'fundingTotals': 3803742},\n",
       "  '2001': {'fundingTotals': 654403},\n",
       "  '2002': {'fundingTotals': 3384231},\n",
       "  '2003': {'fundingTotals': 2087288},\n",
       "  '2004': {'fundingTotals': 612745},\n",
       "  '2005': {'fundingTotals': 831919},\n",
       "  '2006': {'fundingTotals': 806765},\n",
       "  '2007': {'fundingTotals': 531175},\n",
       "  '2008': {'fundingTotals': 5117113},\n",
       "  '2009': {'fundingTotals': 859729},\n",
       "  '2010': {'fundingTotals': 785663},\n",
       "  '2011': {'fundingTotals': 124505},\n",
       "  '2012': {'fundingTotals': 931252},\n",
       "  '2015': {'fundingTotals': 405335},\n",
       "  '2016': {'fundingTotals': 60693},\n",
       "  '2017': {'fundingTotals': 290387},\n",
       "  '2018': {'fundingTotals': 86754}},\n",
       " 'DZA': {'2000': {'fundingTotals': 479787},\n",
       "  '2001': {'fundingTotals': 13008529},\n",
       "  '2002': {'fundingTotals': 7710417},\n",
       "  '2003': {'fundingTotals': 11954796},\n",
       "  '2004': {'fundingTotals': 22891697},\n",
       "  '2005': {'fundingTotals': 23819637},\n",
       "  '2006': {'fundingTotals': 22876045, 'pledgeTotals': 314070},\n",
       "  '2007': {'fundingTotals': 22690932},\n",
       "  '2008': {'fundingTotals': 18400054},\n",
       "  '2009': {'fundingTotals': 19378958},\n",
       "  '2010': {'fundingTotals': 17136556},\n",
       "  '2011': {'fundingTotals': 32606841},\n",
       "  '2012': {'fundingTotals': 24615722},\n",
       "  '2013': {'fundingTotals': 23928067},\n",
       "  '2014': {'fundingTotals': 29208127},\n",
       "  '2015': {'fundingTotals': 37909341},\n",
       "  '2016': {'fundingTotals': 26760870},\n",
       "  '2017': {'fundingTotals': 21811121},\n",
       "  '2018': {'fundingTotals': 15187449}}}"
      ]
     },
     "execution_count": 317,
     "metadata": {},
     "output_type": "execute_result"
    }
   ],
   "source": [
    "s"
   ]
  },
  {
   "cell_type": "code",
   "execution_count": 320,
   "metadata": {},
   "outputs": [
    {
     "name": "stdout",
     "output_type": "stream",
     "text": [
      "AFG\n",
      "ALB\n",
      "DZA\n"
     ]
    }
   ],
   "source": [
    "for k,v in s.items():\n",
    "    print(k)"
   ]
  },
  {
   "cell_type": "code",
   "execution_count": 329,
   "metadata": {},
   "outputs": [
    {
     "name": "stdout",
     "output_type": "stream",
     "text": [
      "1st pulling for : https://api.hpc.tools/v1/public/location\n",
      "reqs mapped\n",
      "pulled. num bad resps: 0\n",
      "1st pulling for : https://api.hpc.tools/v1/public/emergency/country/AFG\n",
      "reqs mapped\n",
      "pulled. num bad resps: 0\n"
     ]
    },
    {
     "data": {
      "text/plain": [
       "{2000: 1, 2001: 1, 2002: 2, 2004: 2, 2005: 3, 2006: 2, 2008: 1, 2010: 2}"
      ]
     },
     "execution_count": 329,
     "metadata": {},
     "output_type": "execute_result"
    }
   ],
   "source": [
    "f = fts(test=True)\n",
    "\n",
    "cnts = f.pull_evt_cnts()\n",
    "\n",
    "\n",
    "\n",
    "cnts['AFG']"
   ]
  },
  {
   "cell_type": "code",
   "execution_count": 355,
   "metadata": {
    "scrolled": true
   },
   "outputs": [
    {
     "name": "stdout",
     "output_type": "stream",
     "text": [
      "1st pulling for : https://api.hpc.tools/v1/public/location\n",
      "reqs mapped\n",
      "pulled. num bad resps: 0\n",
      "1st pulling for : https://api.hpc.tools/v1/public/fts/flow?countryISO3=AFG&groupby=year\n",
      "reqs mapped\n",
      "pulled. num bad resps: 0\n",
      "1st pulling for : https://api.hpc.tools/v1/public/emergency/country/AFG\n",
      "reqs mapped\n",
      "pulled. num bad resps: 0\n"
     ]
    },
    {
     "data": {
      "text/plain": [
       "{'AFG': {2000: {'fundingTotals': 72973025, 'num_activations': 1},\n",
       "  2001: {'fundingTotals': -78074138, 'num_activations': 1},\n",
       "  2002: {'fundingTotals': 1628305282, 'num_activations': 2},\n",
       "  2003: {'fundingTotals': 457060626},\n",
       "  2004: {'fundingTotals': 162366273, 'num_activations': 2},\n",
       "  2005: {'fundingTotals': 80966927, 'num_activations': 3},\n",
       "  2006: {'fundingTotals': 173006599, 'num_activations': 2},\n",
       "  2007: {'fundingTotals': 173907007},\n",
       "  2008: {'fundingTotals': 374390197, 'num_activations': 1},\n",
       "  2009: {'fundingTotals': 565310197},\n",
       "  2010: {'fundingTotals': 623187008, 'num_activations': 2},\n",
       "  2011: {'fundingTotals': 891446788, 'pledgeTotals': 584032},\n",
       "  2012: {'fundingTotals': 478039532},\n",
       "  2013: {'fundingTotals': 519665344},\n",
       "  2014: {'fundingTotals': 495039555},\n",
       "  2015: {'fundingTotals': 421566098},\n",
       "  2016: {'fundingTotals': 522595105},\n",
       "  2017: {'fundingTotals': 366059185},\n",
       "  2018: {'fundingTotals': 217095054},\n",
       "  2019: {'fundingTotals': 1813401},\n",
       "  2020: {'fundingTotals': 369118},\n",
       "  2021: {'fundingTotals': 150150}},\n",
       " 'ALB': {2000: {'fundingTotals': 3803742, 'num_activations': 1},\n",
       "  2001: {'fundingTotals': 654403},\n",
       "  2002: {'fundingTotals': 3384231, 'num_activations': 1},\n",
       "  2003: {'fundingTotals': 2087288},\n",
       "  2004: {'fundingTotals': 612745},\n",
       "  2005: {'fundingTotals': 831919},\n",
       "  2006: {'fundingTotals': 806765},\n",
       "  2007: {'fundingTotals': 531175},\n",
       "  2008: {'fundingTotals': 5117113, 'num_activations': 1},\n",
       "  2009: {'fundingTotals': 859729, 'num_activations': 1},\n",
       "  2010: {'fundingTotals': 785663, 'num_activations': 1},\n",
       "  2011: {'fundingTotals': 124505},\n",
       "  2012: {'fundingTotals': 931252},\n",
       "  2015: {'fundingTotals': 405335},\n",
       "  2016: {'fundingTotals': 60693},\n",
       "  2017: {'fundingTotals': 290387},\n",
       "  2018: {'fundingTotals': 86754}},\n",
       " 'DZA': {2000: {'fundingTotals': 479787},\n",
       "  2001: {'fundingTotals': 13008529, 'num_activations': 1},\n",
       "  2002: {'fundingTotals': 7710417, 'num_activations': 1},\n",
       "  2003: {'fundingTotals': 11954796, 'num_activations': 1},\n",
       "  2004: {'fundingTotals': 22891697},\n",
       "  2005: {'fundingTotals': 23819637},\n",
       "  2006: {'fundingTotals': 22876045,\n",
       "   'num_activations': 1,\n",
       "   'pledgeTotals': 314070},\n",
       "  2007: {'fundingTotals': 22690932},\n",
       "  2008: {'fundingTotals': 18400054},\n",
       "  2009: {'fundingTotals': 19378958},\n",
       "  2010: {'fundingTotals': 17136556},\n",
       "  2011: {'fundingTotals': 32606841},\n",
       "  2012: {'fundingTotals': 24615722},\n",
       "  2013: {'fundingTotals': 23928067},\n",
       "  2014: {'fundingTotals': 29208127},\n",
       "  2015: {'fundingTotals': 37909341},\n",
       "  2016: {'fundingTotals': 26760870},\n",
       "  2017: {'fundingTotals': 21811121},\n",
       "  2018: {'fundingTotals': 15187449}}}"
      ]
     },
     "execution_count": 355,
     "metadata": {},
     "output_type": "execute_result"
    }
   ],
   "source": [
    "f = fts(test=True)\n",
    "r = f.merge()\n",
    "r"
   ]
  },
  {
   "cell_type": "code",
   "execution_count": 351,
   "metadata": {},
   "outputs": [
    {
     "data": {
      "text/plain": [
       "dict_keys(['2011', '2015', '2017', '2013', '2012', '2016', '2010', '2014', '2009', '2018', '2002', '2008', '2003', '2000', '2007', '2004', '2005', '2006', '2001', '2019', '2021', '2020', 2000, 2001, 2002, 2004, 2005, 2006, 2008, 2010])"
      ]
     },
     "execution_count": 351,
     "metadata": {},
     "output_type": "execute_result"
    }
   ],
   "source": [
    "r['AFG'].keys()"
   ]
  },
  {
   "cell_type": "code",
   "execution_count": 354,
   "metadata": {},
   "outputs": [],
   "source": [
    "\"\"\"fts pull\"\"\"\n",
    "\n",
    "class fts(object):\n",
    "    def __init__(self, test=None):\n",
    "        self.test = test\n",
    "        self.cnts = self.get_cnts()\n",
    "    \n",
    "    def get_cnts(self):\n",
    "        \"\"\"\n",
    "        pull down ISO3s from FTS API. here i'm using their provided ISO3s, but we should probably swap in IFRCs\n",
    "        \"\"\"\n",
    "        \n",
    "        return [v['iso3'] for v in api_pull('https://api.hpc.tools/v1/public/location')[0]['data'] \n",
    "                if v['iso3'] is not None]\n",
    "    \n",
    "    def get_urls(self, url):\n",
    "        \"\"\"\n",
    "        iterate through cnts to get base URLs for sending to API in bulk\n",
    "        \"\"\"\n",
    "        urls = [url.format(v) for v in self.cnts]\n",
    "        \n",
    "        if self.test:\n",
    "            return urls[:3]\n",
    "        else:\n",
    "            return urls\n",
    "        \n",
    "    def pull_funds(self):\n",
    "        \"\"\"\n",
    "        go through URL list and pull needed info on total, pledged funding and total count\n",
    "        \"\"\"\n",
    "        ret_d = {}\n",
    "        \n",
    "        urls = self.get_urls('https://api.hpc.tools/v1/public/fts/flow?countryISO3={0}&groupby=year')\n",
    "        \n",
    "        for cnt_vals in api_pull(urls):\n",
    "\n",
    "            #here we pull the ISO from the URL; we could have gotten this at the api_pull, but #yolo (and it'd take some refactoring)\n",
    "            iso = re.search('ISO3=([A-Z]{3})', cnt_vals['url']).group(1)\n",
    "            ret_d[iso] = {}\n",
    "            \n",
    "            for fund_area in ['fundingTotals', 'pledgeTotals']:\n",
    "                if len (cnt_vals['data']['report3'][fund_area]['objects']) > 0:\n",
    "                    for v in cnt_vals['data']['report3'][fund_area]['objects'][0]['objectsBreakdown']:\n",
    "                        year = int(v['name'])\n",
    "                        if year not in ret_d[iso]:\n",
    "                            ret_d[iso][year] = {fund_area : v['totalFunding']}\n",
    "\n",
    "                    ret_d[iso][year][fund_area] = v['totalFunding']\n",
    "        \n",
    "        return ret_d\n",
    "        \n",
    "    def pull_evt_cnts(self):\n",
    "        \"\"\"\n",
    "        go through URL list and pull needed info on counts by country and year\n",
    "        \"\"\"\n",
    "        urls = self.get_urls('https://api.hpc.tools/v1/public/emergency/country/{0}')\n",
    "        ret_d = {}\n",
    "        \n",
    "        for v in api_pull(urls):\n",
    "            iso = iso = re.search('([A-Z]{3})$', v['url']).group(1)\n",
    "            assert(iso not in ret_d)\n",
    "            ret_d[iso] = {}         \n",
    "            \n",
    "            #extract years and group by them\n",
    "            r = json_normalize(v['data']).apply(lambda x : dateparser.parse(x.date).year, axis = 1)\n",
    "            s = r.groupby(r).size()\n",
    "\n",
    "            for v in s.iteritems():\n",
    "                #item 0: year, 1: count\n",
    "                ret_d[iso][v[0]] = v[1]\n",
    "        \n",
    "        return ret_d\n",
    "    \n",
    "    def merge(self):\n",
    "        \"\"\"\n",
    "        join counts and funding amts by building on funds dict\n",
    "        \"\"\"\n",
    "        funds = self.pull_funds()\n",
    "        cnts = self.pull_evt_cnts()\n",
    "        \n",
    "        #k: country, v: values\n",
    "        for k,v in cnts.items():\n",
    "            if k not in funds:\n",
    "                funds[k] = {}\n",
    "            \n",
    "            #iterate through the dict containing ik:year iv:counts\n",
    "            for ik, iv in v.items():\n",
    "                if ik not in funds[k]:\n",
    "                    funds[k][ik] = {}\n",
    "                    \n",
    "                funds[k][ik]['num_activations'] = iv\n",
    "        \n",
    "        return funds"
   ]
  },
  {
   "cell_type": "code",
   "execution_count": 339,
   "metadata": {},
   "outputs": [
    {
     "name": "stdout",
     "output_type": "stream",
     "text": [
      "2000\n",
      "2001\n",
      "2002\n",
      "2004\n",
      "2005\n",
      "2006\n",
      "2008\n",
      "2010\n",
      "2000\n",
      "2002\n",
      "2008\n",
      "2009\n",
      "2010\n",
      "2001\n",
      "2002\n",
      "2003\n",
      "2006\n"
     ]
    }
   ],
   "source": [
    "for k,v in cnts.items():\n",
    "    for ik, iv in v.items():\n",
    "        print(ik)"
   ]
  },
  {
   "cell_type": "code",
   "execution_count": 321,
   "metadata": {},
   "outputs": [
    {
     "name": "stdout",
     "output_type": "stream",
     "text": [
      "AFG\n",
      "ALB\n",
      "DZA\n"
     ]
    }
   ],
   "source": [
    "for k,v in s.items():\n",
    "    print(k)"
   ]
  }
 ],
 "metadata": {
  "kernelspec": {
   "display_name": "Python 3",
   "language": "python",
   "name": "python3"
  },
  "language_info": {
   "codemirror_mode": {
    "name": "ipython",
    "version": 3
   },
   "file_extension": ".py",
   "mimetype": "text/x-python",
   "name": "python",
   "nbconvert_exporter": "python",
   "pygments_lexer": "ipython3",
   "version": "3.6.1"
  }
 },
 "nbformat": 4,
 "nbformat_minor": 2
}

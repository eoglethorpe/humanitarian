{
 "cells": [
  {
   "cell_type": "code",
   "execution_count": 6,
   "metadata": {},
   "outputs": [
    {
     "data": {
      "text/plain": [
       "'/usr/local/Cellar/python3/3.6.1/Frameworks/Python.framework/Versions/3.6'"
      ]
     },
     "execution_count": 6,
     "metadata": {},
     "output_type": "execute_result"
    }
   ],
   "source": [
    "import sys\n",
    "\n",
    "sys.real_prefix\n",
    "\n",
    "/usr/local/Cellar/python3/3.6.1/Frameworks/Python.framework/Versions/3.6/bin/python3.6\n",
    "/usr/local/Cellar/python3/3.6.1/Frameworks/Python.framework/Versions/3.6\n"
   ]
  },
  {
   "cell_type": "code",
   "execution_count": null,
   "metadata": {
    "collapsed": true
   },
   "outputs": [],
   "source": [
    "import urllib.request, json\n",
    "import csv\n",
    "import itertools\n",
    "import math\n",
    "import collections\n",
    "\n",
    "import grequests\n",
    "import pandas as pd\n",
    "from pandas.io.json import json_normalize\n",
    "\n",
    "import country_converter as coco"
   ]
  },
  {
   "cell_type": "code",
   "execution_count": 2,
   "metadata": {
    "collapsed": true
   },
   "outputs": [],
   "source": [
    "\"\"\"read in SC historical data, convert ISOz\"\"\"\n",
    "\n",
    "def pull():\n",
    "    LOC = '/Users/ewanog/Google Drive/SoHSS/Report/Docs/sc_historical.xlsx'\n",
    "    hist = pd.read_excel(LOC, sheet_name = 'Sheet2')\n",
    "\n",
    "    #fix columns\n",
    "    hist.rename(columns = {'Country ' : 'Country'}, inplace = True)\n",
    "\n",
    "    #Pacific Region given for 2015 - 2018, remove\n",
    "    hist = hist[hist['Country'] != 'Pacific Region']\n",
    "\n",
    "    #Rename 'Chili' to 'Chile'\n",
    "    hist.loc[hist['Country'] == 'Chili', 'Country'] = 'Chile'\n",
    "\n",
    "    #add ISO codes\n",
    "    hist['ISO3'] = hist['Country'].apply(lambda x : coco.convert(names = x, to = 'ISO3'))\n",
    "\n",
    "    #total number of crisis: 230\n",
    "    print('loaded ' + str(len(hist)) + 'SC entries')\n",
    "    \n",
    "    return hist"
   ]
  }
 ],
 "metadata": {
  "kernelspec": {
   "display_name": "Python 3",
   "language": "python",
   "name": "python3"
  },
  "language_info": {
   "codemirror_mode": {
    "name": "ipython",
    "version": 3
   },
   "file_extension": ".py",
   "mimetype": "text/x-python",
   "name": "python",
   "nbconvert_exporter": "python",
   "pygments_lexer": "ipython3",
   "version": "3.6.1"
  }
 },
 "nbformat": 4,
 "nbformat_minor": 1
}
